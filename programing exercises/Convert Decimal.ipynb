{
 "cells": [
  {
   "cell_type": "code",
   "execution_count": 33,
   "id": "b78a468f",
   "metadata": {},
   "outputs": [],
   "source": [
    "# Function to convert decimal number\n",
    "# to binary using recursion\n",
    "def decimalToBinary(num):\n",
    "    if num >= 1:\n",
    "        decimalToBinary(num // 2)\n",
    "    print(num % 2, end = '')\n"
   ]
  },
  {
   "cell_type": "code",
   "execution_count": 40,
   "id": "49a127ae",
   "metadata": {},
   "outputs": [],
   "source": [
    "# Conversion table of remainders to\n",
    "# hexadecimal equivalent\n",
    "conversion_table = {0: '0', 1: '1', 2: '2', 3: '3', 4: '4',\n",
    "                    5: '5', 6: '6', 7: '7',\n",
    "                    8: '8', 9: '9', 10: 'A', 11: 'B', 12: 'C',\n",
    "                    13: 'D', 14: 'E', 15: 'F'}\n",
    "  \n",
    "  \n",
    "# function which converts decimal value\n",
    "# to hexadecimal value\n",
    "def decimalToHexadecimal(decimal):\n",
    "    hexadecimal = ''\n",
    "    while(decimal > 0):\n",
    "        remainder = decimal % 16\n",
    "        hexadecimal = conversion_table[remainder] + hexadecimal\n",
    "        decimal = decimal // 16\n",
    "  \n",
    "    print(hexadecimal)"
   ]
  },
  {
   "cell_type": "code",
   "execution_count": 41,
   "id": "ec72c302",
   "metadata": {},
   "outputs": [],
   "source": [
    "# function which converts decimal value\n",
    "# to octal value using recursion\n",
    "def decimalToOctal(decimal):\n",
    "    if(decimal > 0):\n",
    "        decimalToOctal((int)(decimal/8))\n",
    "        print(decimal%8, end='')"
   ]
  },
  {
   "cell_type": "code",
   "execution_count": 42,
   "id": "4a006ded",
   "metadata": {},
   "outputs": [
    {
     "name": "stdout",
     "output_type": "stream",
     "text": [
      "0100"
     ]
    }
   ],
   "source": [
    "decimalToBinary(4)"
   ]
  },
  {
   "cell_type": "code",
   "execution_count": 43,
   "id": "56751627",
   "metadata": {},
   "outputs": [
    {
     "name": "stdout",
     "output_type": "stream",
     "text": [
      "1A\n"
     ]
    }
   ],
   "source": [
    "decimalToHexadecimal(26)"
   ]
  },
  {
   "cell_type": "code",
   "execution_count": 44,
   "id": "25b45fc5",
   "metadata": {},
   "outputs": [
    {
     "name": "stdout",
     "output_type": "stream",
     "text": [
      "12"
     ]
    }
   ],
   "source": [
    "decimalToOctal(10)"
   ]
  },
  {
   "cell_type": "code",
   "execution_count": 53,
   "id": "a7e266ed",
   "metadata": {},
   "outputs": [
    {
     "name": "stdout",
     "output_type": "stream",
     "text": [
      "binery:\n",
      "01010\n",
      "octal:\n",
      "12\n",
      "Hexadecimal:\n",
      "A\n"
     ]
    }
   ],
   "source": [
    "# and finlly the func that print the number in all the\n",
    "# forms:\n",
    "def decimalToBinHexOct(decimal):\n",
    "    print(\"binery:\")\n",
    "    decimalToBinary(decimal)\n",
    "    print(\"\\n\"+\"octal:\")\n",
    "    decimalToOctal(decimal)\n",
    "    print(\"\\n\"+\"Hexadecimal:\")\n",
    "    decimalToHexadecimal(decimal)\n",
    "decimalToBinHexOct(10)"
   ]
  },
  {
   "cell_type": "code",
   "execution_count": null,
   "id": "7696e292",
   "metadata": {},
   "outputs": [],
   "source": []
  }
 ],
 "metadata": {
  "kernelspec": {
   "display_name": "Python 3 (ipykernel)",
   "language": "python",
   "name": "python3"
  },
  "language_info": {
   "codemirror_mode": {
    "name": "ipython",
    "version": 3
   },
   "file_extension": ".py",
   "mimetype": "text/x-python",
   "name": "python",
   "nbconvert_exporter": "python",
   "pygments_lexer": "ipython3",
   "version": "3.9.7"
  }
 },
 "nbformat": 4,
 "nbformat_minor": 5
}
