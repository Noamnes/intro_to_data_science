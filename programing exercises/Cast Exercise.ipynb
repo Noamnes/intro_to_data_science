{
 "cells": [
  {
   "cell_type": "code",
   "execution_count": 3,
   "id": "137428dd",
   "metadata": {},
   "outputs": [],
   "source": [
    "import pandas as pd"
   ]
  },
  {
   "cell_type": "code",
   "execution_count": 4,
   "id": "e518f116",
   "metadata": {},
   "outputs": [],
   "source": [
    "df = pd.read_csv('cast.csv')"
   ]
  },
  {
   "cell_type": "code",
   "execution_count": 14,
   "id": "043cf280",
   "metadata": {},
   "outputs": [
    {
     "data": {
      "text/html": [
       "<div>\n",
       "<style scoped>\n",
       "    .dataframe tbody tr th:only-of-type {\n",
       "        vertical-align: middle;\n",
       "    }\n",
       "\n",
       "    .dataframe tbody tr th {\n",
       "        vertical-align: top;\n",
       "    }\n",
       "\n",
       "    .dataframe thead th {\n",
       "        text-align: right;\n",
       "    }\n",
       "</style>\n",
       "<table border=\"1\" class=\"dataframe\">\n",
       "  <thead>\n",
       "    <tr style=\"text-align: right;\">\n",
       "      <th></th>\n",
       "      <th>title</th>\n",
       "      <th>year</th>\n",
       "      <th>name</th>\n",
       "      <th>type</th>\n",
       "      <th>character</th>\n",
       "      <th>n</th>\n",
       "    </tr>\n",
       "  </thead>\n",
       "  <tbody>\n",
       "    <tr>\n",
       "      <th>0</th>\n",
       "      <td>Suuri illusioni</td>\n",
       "      <td>1985</td>\n",
       "      <td>Homo $</td>\n",
       "      <td>actor</td>\n",
       "      <td>Guests</td>\n",
       "      <td>22.0</td>\n",
       "    </tr>\n",
       "    <tr>\n",
       "      <th>1</th>\n",
       "      <td>Gangsta Rap: The Glockumentary</td>\n",
       "      <td>2007</td>\n",
       "      <td>Too $hort</td>\n",
       "      <td>actor</td>\n",
       "      <td>Himself</td>\n",
       "      <td>NaN</td>\n",
       "    </tr>\n",
       "  </tbody>\n",
       "</table>\n",
       "</div>"
      ],
      "text/plain": [
       "                            title  year       name   type character     n\n",
       "0                 Suuri illusioni  1985     Homo $  actor    Guests  22.0\n",
       "1  Gangsta Rap: The Glockumentary  2007  Too $hort  actor   Himself   NaN"
      ]
     },
     "execution_count": 14,
     "metadata": {},
     "output_type": "execute_result"
    }
   ],
   "source": [
    "df.head(2)"
   ]
  },
  {
   "cell_type": "markdown",
   "id": "a1334272",
   "metadata": {},
   "source": [
    "## 1. How many movies have the title \"Hamlet\"?"
   ]
  },
  {
   "cell_type": "code",
   "execution_count": 28,
   "id": "6519d30b",
   "metadata": {},
   "outputs": [
    {
     "data": {
      "text/plain": [
       "299"
      ]
     },
     "execution_count": 28,
     "metadata": {},
     "output_type": "execute_result"
    }
   ],
   "source": [
    "df[df[\"title\"]==\"Hamlet\"].shape[0]"
   ]
  },
  {
   "cell_type": "markdown",
   "id": "68e33683",
   "metadata": {},
   "source": [
    "## 2.\tList all of the \"Treasure Island\" movies from earliest to most recent."
   ]
  },
  {
   "cell_type": "code",
   "execution_count": 29,
   "id": "a8bdc67d",
   "metadata": {},
   "outputs": [],
   "source": [
    "filt = df['title'] == 'Treasure Island'"
   ]
  },
  {
   "cell_type": "code",
   "execution_count": 30,
   "id": "12cb35ee",
   "metadata": {},
   "outputs": [
    {
     "data": {
      "text/html": [
       "<div>\n",
       "<style scoped>\n",
       "    .dataframe tbody tr th:only-of-type {\n",
       "        vertical-align: middle;\n",
       "    }\n",
       "\n",
       "    .dataframe tbody tr th {\n",
       "        vertical-align: top;\n",
       "    }\n",
       "\n",
       "    .dataframe thead th {\n",
       "        text-align: right;\n",
       "    }\n",
       "</style>\n",
       "<table border=\"1\" class=\"dataframe\">\n",
       "  <thead>\n",
       "    <tr style=\"text-align: right;\">\n",
       "      <th></th>\n",
       "      <th>title</th>\n",
       "      <th>year</th>\n",
       "      <th>name</th>\n",
       "      <th>type</th>\n",
       "      <th>character</th>\n",
       "      <th>n</th>\n",
       "    </tr>\n",
       "  </thead>\n",
       "  <tbody>\n",
       "    <tr>\n",
       "      <th>898356</th>\n",
       "      <td>Treasure Island</td>\n",
       "      <td>1999</td>\n",
       "      <td>George Hirschmann</td>\n",
       "      <td>actor</td>\n",
       "      <td>Admiral</td>\n",
       "      <td>12.0</td>\n",
       "    </tr>\n",
       "    <tr>\n",
       "      <th>2239082</th>\n",
       "      <td>Treasure Island</td>\n",
       "      <td>1999</td>\n",
       "      <td>Caveh Zahedi</td>\n",
       "      <td>actor</td>\n",
       "      <td>Harold</td>\n",
       "      <td>9.0</td>\n",
       "    </tr>\n",
       "    <tr>\n",
       "      <th>1075489</th>\n",
       "      <td>Treasure Island</td>\n",
       "      <td>1999</td>\n",
       "      <td>Scott King</td>\n",
       "      <td>actor</td>\n",
       "      <td>Walter</td>\n",
       "      <td>15.0</td>\n",
       "    </tr>\n",
       "    <tr>\n",
       "      <th>1273059</th>\n",
       "      <td>Treasure Island</td>\n",
       "      <td>1999</td>\n",
       "      <td>J.P. Manoux</td>\n",
       "      <td>actor</td>\n",
       "      <td>Officer Hughes</td>\n",
       "      <td>18.0</td>\n",
       "    </tr>\n",
       "    <tr>\n",
       "      <th>1516861</th>\n",
       "      <td>Treasure Island</td>\n",
       "      <td>1999</td>\n",
       "      <td>Nick Offerman</td>\n",
       "      <td>actor</td>\n",
       "      <td>Samuel</td>\n",
       "      <td>2.0</td>\n",
       "    </tr>\n",
       "    <tr>\n",
       "      <th>1663860</th>\n",
       "      <td>Treasure Island</td>\n",
       "      <td>1999</td>\n",
       "      <td>Victor Raider-Wexler</td>\n",
       "      <td>actor</td>\n",
       "      <td>Samowitz</td>\n",
       "      <td>10.0</td>\n",
       "    </tr>\n",
       "    <tr>\n",
       "      <th>1731182</th>\n",
       "      <td>Treasure Island</td>\n",
       "      <td>1999</td>\n",
       "      <td>Scot Thomas Robinson</td>\n",
       "      <td>actor</td>\n",
       "      <td>Jimmy</td>\n",
       "      <td>11.0</td>\n",
       "    </tr>\n",
       "    <tr>\n",
       "      <th>1813707</th>\n",
       "      <td>Treasure Island</td>\n",
       "      <td>1999</td>\n",
       "      <td>Richard Schave</td>\n",
       "      <td>actor</td>\n",
       "      <td>Man</td>\n",
       "      <td>21.0</td>\n",
       "    </tr>\n",
       "    <tr>\n",
       "      <th>2710458</th>\n",
       "      <td>Treasure Island</td>\n",
       "      <td>1999</td>\n",
       "      <td>Stephanie Ittleson</td>\n",
       "      <td>actress</td>\n",
       "      <td>Stella</td>\n",
       "      <td>7.0</td>\n",
       "    </tr>\n",
       "    <tr>\n",
       "      <th>815338</th>\n",
       "      <td>Treasure Island</td>\n",
       "      <td>1999</td>\n",
       "      <td>Rio Hackford</td>\n",
       "      <td>actor</td>\n",
       "      <td>Hans</td>\n",
       "      <td>23.0</td>\n",
       "    </tr>\n",
       "  </tbody>\n",
       "</table>\n",
       "</div>"
      ],
      "text/plain": [
       "                   title  year                  name     type       character  \\\n",
       "898356   Treasure Island  1999     George Hirschmann    actor         Admiral   \n",
       "2239082  Treasure Island  1999          Caveh Zahedi    actor          Harold   \n",
       "1075489  Treasure Island  1999            Scott King    actor          Walter   \n",
       "1273059  Treasure Island  1999           J.P. Manoux    actor  Officer Hughes   \n",
       "1516861  Treasure Island  1999         Nick Offerman    actor          Samuel   \n",
       "1663860  Treasure Island  1999  Victor Raider-Wexler    actor        Samowitz   \n",
       "1731182  Treasure Island  1999  Scot Thomas Robinson    actor           Jimmy   \n",
       "1813707  Treasure Island  1999        Richard Schave    actor             Man   \n",
       "2710458  Treasure Island  1999    Stephanie Ittleson  actress          Stella   \n",
       "815338   Treasure Island  1999          Rio Hackford    actor            Hans   \n",
       "\n",
       "            n  \n",
       "898356   12.0  \n",
       "2239082   9.0  \n",
       "1075489  15.0  \n",
       "1273059  18.0  \n",
       "1516861   2.0  \n",
       "1663860  10.0  \n",
       "1731182  11.0  \n",
       "1813707  21.0  \n",
       "2710458   7.0  \n",
       "815338   23.0  "
      ]
     },
     "execution_count": 30,
     "metadata": {},
     "output_type": "execute_result"
    }
   ],
   "source": [
    "df.loc[filt].sort_values('year', ascending = True).tail(10)"
   ]
  },
  {
   "cell_type": "markdown",
   "id": "cebc11e2",
   "metadata": {},
   "source": [
    "## 3. How many roles were credited in the silent 1921 version of Hamlet?"
   ]
  },
  {
   "cell_type": "code",
   "execution_count": 31,
   "id": "33dbc151",
   "metadata": {},
   "outputs": [],
   "source": [
    "filt = (df['title'] == 'Hamlet') & (df['year'] == 1921)"
   ]
  },
  {
   "cell_type": "code",
   "execution_count": 36,
   "id": "029c350a",
   "metadata": {},
   "outputs": [
    {
     "data": {
      "text/html": [
       "<div>\n",
       "<style scoped>\n",
       "    .dataframe tbody tr th:only-of-type {\n",
       "        vertical-align: middle;\n",
       "    }\n",
       "\n",
       "    .dataframe tbody tr th {\n",
       "        vertical-align: top;\n",
       "    }\n",
       "\n",
       "    .dataframe thead th {\n",
       "        text-align: right;\n",
       "    }\n",
       "</style>\n",
       "<table border=\"1\" class=\"dataframe\">\n",
       "  <thead>\n",
       "    <tr style=\"text-align: right;\">\n",
       "      <th></th>\n",
       "      <th>title</th>\n",
       "      <th>year</th>\n",
       "      <th>name</th>\n",
       "      <th>type</th>\n",
       "      <th>character</th>\n",
       "      <th>n</th>\n",
       "    </tr>\n",
       "  </thead>\n",
       "  <tbody>\n",
       "    <tr>\n",
       "      <th>6710</th>\n",
       "      <td>Hamlet</td>\n",
       "      <td>1921</td>\n",
       "      <td>Fritz Achterberg</td>\n",
       "      <td>actor</td>\n",
       "      <td>Fortinbras,</td>\n",
       "      <td>9.0</td>\n",
       "    </tr>\n",
       "    <tr>\n",
       "      <th>408456</th>\n",
       "      <td>Hamlet</td>\n",
       "      <td>1921</td>\n",
       "      <td>Paul Conradi</td>\n",
       "      <td>actor</td>\n",
       "      <td>K?nig Hamlet</td>\n",
       "      <td>2.0</td>\n",
       "    </tr>\n",
       "    <tr>\n",
       "      <th>495468</th>\n",
       "      <td>Hamlet</td>\n",
       "      <td>1921</td>\n",
       "      <td>Anton De Verdier</td>\n",
       "      <td>actor</td>\n",
       "      <td>Laertes</td>\n",
       "      <td>7.0</td>\n",
       "    </tr>\n",
       "    <tr>\n",
       "      <th>1015046</th>\n",
       "      <td>Hamlet</td>\n",
       "      <td>1921</td>\n",
       "      <td>Hans Junkermann</td>\n",
       "      <td>actor</td>\n",
       "      <td>Polonius</td>\n",
       "      <td>6.0</td>\n",
       "    </tr>\n",
       "    <tr>\n",
       "      <th>1948795</th>\n",
       "      <td>Hamlet</td>\n",
       "      <td>1921</td>\n",
       "      <td>Heinz Stieda</td>\n",
       "      <td>actor</td>\n",
       "      <td>Horatio</td>\n",
       "      <td>5.0</td>\n",
       "    </tr>\n",
       "  </tbody>\n",
       "</table>\n",
       "</div>"
      ],
      "text/plain": [
       "          title  year              name   type     character    n\n",
       "6710     Hamlet  1921  Fritz Achterberg  actor   Fortinbras,  9.0\n",
       "408456   Hamlet  1921      Paul Conradi  actor  K?nig Hamlet  2.0\n",
       "495468   Hamlet  1921  Anton De Verdier  actor       Laertes  7.0\n",
       "1015046  Hamlet  1921   Hans Junkermann  actor      Polonius  6.0\n",
       "1948795  Hamlet  1921      Heinz Stieda  actor       Horatio  5.0"
      ]
     },
     "execution_count": 36,
     "metadata": {},
     "output_type": "execute_result"
    }
   ],
   "source": [
    "df.loc[filt].head()"
   ]
  },
  {
   "cell_type": "code",
   "execution_count": 40,
   "id": "12dd2d21",
   "metadata": {},
   "outputs": [
    {
     "data": {
      "text/plain": [
       "9"
      ]
     },
     "execution_count": 40,
     "metadata": {},
     "output_type": "execute_result"
    }
   ],
   "source": [
    "df[filt][\"character\"].unique().shape[0]"
   ]
  },
  {
   "cell_type": "code",
   "execution_count": 20,
   "id": "80b88c94",
   "metadata": {},
   "outputs": [
    {
     "data": {
      "text/plain": [
       "9"
      ]
     },
     "execution_count": 20,
     "metadata": {},
     "output_type": "execute_result"
    }
   ],
   "source": [
    "df.loc[filt].shape[0]"
   ]
  },
  {
   "cell_type": "markdown",
   "id": "12eb3ade",
   "metadata": {},
   "source": [
    "## 4.\tUse groupby() to plot the number of \"Hamlet\" films made each decade"
   ]
  },
  {
   "cell_type": "code",
   "execution_count": 63,
   "id": "dd763c3a",
   "metadata": {},
   "outputs": [],
   "source": [
    "title_grp = df.groupby(['title'])"
   ]
  },
  {
   "cell_type": "code",
   "execution_count": 64,
   "id": "4696ee8b",
   "metadata": {},
   "outputs": [],
   "source": [
    "hamlet_grp = title_grp.get_group('Hamlet')"
   ]
  },
  {
   "cell_type": "code",
   "execution_count": 65,
   "id": "b6d3d889",
   "metadata": {},
   "outputs": [],
   "source": [
    "# How many 'Hamlet' films were made in each year?\n",
    "ham_srs = hamlet_grp['year'].value_counts()"
   ]
  },
  {
   "cell_type": "code",
   "execution_count": 66,
   "id": "7ba1432e",
   "metadata": {},
   "outputs": [
    {
     "data": {
      "text/plain": [
       "1456       1996\n",
       "6710       1921\n",
       "10274      2009\n",
       "10275      2009\n",
       "12743      1913\n",
       "           ... \n",
       "3212647    1964\n",
       "3236803    1969\n",
       "3257437    2000\n",
       "3284728    1996\n",
       "3304265    1996\n",
       "Name: year, Length: 299, dtype: int64"
      ]
     },
     "execution_count": 66,
     "metadata": {},
     "output_type": "execute_result"
    }
   ],
   "source": [
    "hamlet_grp[\"year\"]"
   ]
  },
  {
   "cell_type": "code",
   "execution_count": 67,
   "id": "0610dccd",
   "metadata": {},
   "outputs": [
    {
     "data": {
      "text/plain": [
       "1996    55\n",
       "2000    38\n",
       "1964    33\n",
       "1990    29\n",
       "1948    25\n",
       "1969    24\n",
       "1913    21\n",
       "2009    17\n",
       "2011    12\n",
       "1976    11\n",
       "1921     9\n",
       "1973     8\n",
       "1911     6\n",
       "2015     6\n",
       "1987     3\n",
       "1910     1\n",
       "1954     1\n",
       "Name: year, dtype: int64"
      ]
     },
     "execution_count": 67,
     "metadata": {},
     "output_type": "execute_result"
    }
   ],
   "source": [
    "ham_srs"
   ]
  },
  {
   "cell_type": "code",
   "execution_count": 68,
   "id": "8ff2e32c",
   "metadata": {},
   "outputs": [],
   "source": [
    "filt = ( (df['year'] >= 1970) & (df['year'] <= 1979) )"
   ]
  },
  {
   "cell_type": "code",
   "execution_count": 69,
   "id": "42187e8d",
   "metadata": {},
   "outputs": [
    {
     "data": {
      "text/plain": [
       "19"
      ]
     },
     "execution_count": 69,
     "metadata": {},
     "output_type": "execute_result"
    }
   ],
   "source": [
    "# How many 'Hamlet' films were made in the 1910's ?\n",
    "hamlet_grp.loc[filt].shape[0]"
   ]
  },
  {
   "cell_type": "code",
   "execution_count": 70,
   "id": "fa214bc3",
   "metadata": {},
   "outputs": [
    {
     "data": {
      "text/html": [
       "<div>\n",
       "<style scoped>\n",
       "    .dataframe tbody tr th:only-of-type {\n",
       "        vertical-align: middle;\n",
       "    }\n",
       "\n",
       "    .dataframe tbody tr th {\n",
       "        vertical-align: top;\n",
       "    }\n",
       "\n",
       "    .dataframe thead th {\n",
       "        text-align: right;\n",
       "    }\n",
       "</style>\n",
       "<table border=\"1\" class=\"dataframe\">\n",
       "  <thead>\n",
       "    <tr style=\"text-align: right;\">\n",
       "      <th></th>\n",
       "      <th>Decade</th>\n",
       "      <th>Num of Hamlet films</th>\n",
       "    </tr>\n",
       "  </thead>\n",
       "  <tbody>\n",
       "    <tr>\n",
       "      <th>0</th>\n",
       "      <td>1910s</td>\n",
       "      <td>0</td>\n",
       "    </tr>\n",
       "    <tr>\n",
       "      <th>1</th>\n",
       "      <td>1920s</td>\n",
       "      <td>0</td>\n",
       "    </tr>\n",
       "    <tr>\n",
       "      <th>2</th>\n",
       "      <td>1930s</td>\n",
       "      <td>0</td>\n",
       "    </tr>\n",
       "    <tr>\n",
       "      <th>3</th>\n",
       "      <td>1940s</td>\n",
       "      <td>0</td>\n",
       "    </tr>\n",
       "    <tr>\n",
       "      <th>4</th>\n",
       "      <td>1950s</td>\n",
       "      <td>0</td>\n",
       "    </tr>\n",
       "    <tr>\n",
       "      <th>5</th>\n",
       "      <td>1960s</td>\n",
       "      <td>0</td>\n",
       "    </tr>\n",
       "    <tr>\n",
       "      <th>6</th>\n",
       "      <td>1970s</td>\n",
       "      <td>0</td>\n",
       "    </tr>\n",
       "    <tr>\n",
       "      <th>7</th>\n",
       "      <td>1980s</td>\n",
       "      <td>0</td>\n",
       "    </tr>\n",
       "    <tr>\n",
       "      <th>8</th>\n",
       "      <td>1990s</td>\n",
       "      <td>0</td>\n",
       "    </tr>\n",
       "    <tr>\n",
       "      <th>9</th>\n",
       "      <td>2000s</td>\n",
       "      <td>0</td>\n",
       "    </tr>\n",
       "    <tr>\n",
       "      <th>10</th>\n",
       "      <td>2010s</td>\n",
       "      <td>0</td>\n",
       "    </tr>\n",
       "  </tbody>\n",
       "</table>\n",
       "</div>"
      ],
      "text/plain": [
       "   Decade  Num of Hamlet films\n",
       "0   1910s                    0\n",
       "1   1920s                    0\n",
       "2   1930s                    0\n",
       "3   1940s                    0\n",
       "4   1950s                    0\n",
       "5   1960s                    0\n",
       "6   1970s                    0\n",
       "7   1980s                    0\n",
       "8   1990s                    0\n",
       "9   2000s                    0\n",
       "10  2010s                    0"
      ]
     },
     "execution_count": 70,
     "metadata": {},
     "output_type": "execute_result"
    }
   ],
   "source": [
    "data = {\n",
    "    'Decade': pd.Series(['1910s','1920s','1930s','1940s','1950s','1960s','1970s','1980s','1990s','2000s', '2010s']),\n",
    "    'Num of Hamlet films': 0\n",
    "}\n",
    "\n",
    "ham_dec = pd.DataFrame(data)\n",
    "\n",
    "ham_dec"
   ]
  },
  {
   "cell_type": "code",
   "execution_count": 71,
   "id": "7e819142",
   "metadata": {},
   "outputs": [],
   "source": [
    "i = 0\n",
    "while i < 11:\n",
    "    year = 1910 + i*10\n",
    "    filt = ( (df['year'] >= year) & (df['year'] <= year+9) )\n",
    "    ham_dec.iloc[i,1] = hamlet_grp.loc[filt].shape[0]\n",
    "    i += 1"
   ]
  },
  {
   "cell_type": "code",
   "execution_count": 72,
   "id": "4754ed2c",
   "metadata": {},
   "outputs": [
    {
     "data": {
      "text/html": [
       "<div>\n",
       "<style scoped>\n",
       "    .dataframe tbody tr th:only-of-type {\n",
       "        vertical-align: middle;\n",
       "    }\n",
       "\n",
       "    .dataframe tbody tr th {\n",
       "        vertical-align: top;\n",
       "    }\n",
       "\n",
       "    .dataframe thead th {\n",
       "        text-align: right;\n",
       "    }\n",
       "</style>\n",
       "<table border=\"1\" class=\"dataframe\">\n",
       "  <thead>\n",
       "    <tr style=\"text-align: right;\">\n",
       "      <th></th>\n",
       "      <th>Decade</th>\n",
       "      <th>Num of Hamlet films</th>\n",
       "    </tr>\n",
       "  </thead>\n",
       "  <tbody>\n",
       "    <tr>\n",
       "      <th>0</th>\n",
       "      <td>1910s</td>\n",
       "      <td>28</td>\n",
       "    </tr>\n",
       "    <tr>\n",
       "      <th>1</th>\n",
       "      <td>1920s</td>\n",
       "      <td>9</td>\n",
       "    </tr>\n",
       "    <tr>\n",
       "      <th>2</th>\n",
       "      <td>1930s</td>\n",
       "      <td>0</td>\n",
       "    </tr>\n",
       "    <tr>\n",
       "      <th>3</th>\n",
       "      <td>1940s</td>\n",
       "      <td>25</td>\n",
       "    </tr>\n",
       "    <tr>\n",
       "      <th>4</th>\n",
       "      <td>1950s</td>\n",
       "      <td>1</td>\n",
       "    </tr>\n",
       "    <tr>\n",
       "      <th>5</th>\n",
       "      <td>1960s</td>\n",
       "      <td>57</td>\n",
       "    </tr>\n",
       "    <tr>\n",
       "      <th>6</th>\n",
       "      <td>1970s</td>\n",
       "      <td>19</td>\n",
       "    </tr>\n",
       "    <tr>\n",
       "      <th>7</th>\n",
       "      <td>1980s</td>\n",
       "      <td>3</td>\n",
       "    </tr>\n",
       "    <tr>\n",
       "      <th>8</th>\n",
       "      <td>1990s</td>\n",
       "      <td>84</td>\n",
       "    </tr>\n",
       "    <tr>\n",
       "      <th>9</th>\n",
       "      <td>2000s</td>\n",
       "      <td>55</td>\n",
       "    </tr>\n",
       "    <tr>\n",
       "      <th>10</th>\n",
       "      <td>2010s</td>\n",
       "      <td>18</td>\n",
       "    </tr>\n",
       "  </tbody>\n",
       "</table>\n",
       "</div>"
      ],
      "text/plain": [
       "   Decade  Num of Hamlet films\n",
       "0   1910s                   28\n",
       "1   1920s                    9\n",
       "2   1930s                    0\n",
       "3   1940s                   25\n",
       "4   1950s                    1\n",
       "5   1960s                   57\n",
       "6   1970s                   19\n",
       "7   1980s                    3\n",
       "8   1990s                   84\n",
       "9   2000s                   55\n",
       "10  2010s                   18"
      ]
     },
     "execution_count": 72,
     "metadata": {},
     "output_type": "execute_result"
    }
   ],
   "source": [
    "ham_dec"
   ]
  },
  {
   "cell_type": "markdown",
   "id": "df13cc40",
   "metadata": {},
   "source": [
    "## 5.\tHow many leading (n=1) roles were available to actors, and how many to actresses, in each year of the 1950s?   \n",
    "v"
   ]
  },
  {
   "cell_type": "code",
   "execution_count": 73,
   "id": "10c326a7",
   "metadata": {},
   "outputs": [],
   "source": [
    "filt1 = ( (df['year'] >= 1950) & (df['year'] <= 1959) )"
   ]
  },
  {
   "cell_type": "code",
   "execution_count": 74,
   "id": "39648ccd",
   "metadata": {},
   "outputs": [],
   "source": [
    "filt2 = df['n'] == 1"
   ]
  },
  {
   "cell_type": "code",
   "execution_count": 75,
   "id": "1c0beb17",
   "metadata": {},
   "outputs": [],
   "source": [
    "filt3 = df['type'] == 'actor'"
   ]
  },
  {
   "cell_type": "code",
   "execution_count": 76,
   "id": "54d26551",
   "metadata": {},
   "outputs": [
    {
     "data": {
      "text/plain": [
       "6388"
      ]
     },
     "execution_count": 76,
     "metadata": {},
     "output_type": "execute_result"
    }
   ],
   "source": [
    "# actors\n",
    "df.loc[filt1].loc[filt2].loc[filt3].shape[0]"
   ]
  },
  {
   "cell_type": "code",
   "execution_count": 77,
   "id": "4458b63e",
   "metadata": {},
   "outputs": [],
   "source": [
    "filt3 = df['type'] == 'actress'"
   ]
  },
  {
   "cell_type": "code",
   "execution_count": 78,
   "id": "7b1bf578",
   "metadata": {},
   "outputs": [
    {
     "data": {
      "text/plain": [
       "2813"
      ]
     },
     "execution_count": 78,
     "metadata": {},
     "output_type": "execute_result"
    }
   ],
   "source": [
    "# actresses\n",
    "df.loc[filt1].loc[filt2].loc[filt3].shape[0]"
   ]
  },
  {
   "cell_type": "markdown",
   "id": "adb8c705",
   "metadata": {},
   "source": [
    "## 6.\tList the 10 actors/actresses that have the most leading roles (n=1) since the 1990's.\n",
    "v"
   ]
  },
  {
   "cell_type": "code",
   "execution_count": 79,
   "id": "8c96680f",
   "metadata": {},
   "outputs": [],
   "source": [
    "filt1 = df['year'] >= 1990"
   ]
  },
  {
   "cell_type": "code",
   "execution_count": 80,
   "id": "a33af643",
   "metadata": {},
   "outputs": [
    {
     "data": {
      "text/plain": [
       "Mohanlal              126\n",
       "Mammootty             118\n",
       "Akshay Kumar           87\n",
       "Jayaram                76\n",
       "Andy Lau               72\n",
       "Ajay Devgn             69\n",
       "Eric Roberts           68\n",
       "Amitabh Bachchan       68\n",
       "Nagarjuna Akkineni     60\n",
       "Dilip                  59\n",
       "Name: name, dtype: int64"
      ]
     },
     "execution_count": 80,
     "metadata": {},
     "output_type": "execute_result"
    }
   ],
   "source": [
    "df.loc[filt1].loc[filt2]['name'].value_counts().head(10)"
   ]
  },
  {
   "cell_type": "markdown",
   "id": "93655244",
   "metadata": {},
   "source": [
    "## 7.\tList, in order by year, each of the films in which Frank Oz has played more than 1 role\n",
    "v"
   ]
  },
  {
   "cell_type": "code",
   "execution_count": 81,
   "id": "342c430a",
   "metadata": {},
   "outputs": [],
   "source": [
    "filt = df['name'] == 'Frank Oz'"
   ]
  },
  {
   "cell_type": "code",
   "execution_count": 82,
   "id": "2fbe8b05",
   "metadata": {},
   "outputs": [],
   "source": [
    "frank = df.loc[filt]"
   ]
  },
  {
   "cell_type": "code",
   "execution_count": 83,
   "id": "aa434391",
   "metadata": {},
   "outputs": [],
   "source": [
    "frank = frank.sort_values('year', ascending = True)"
   ]
  },
  {
   "cell_type": "code",
   "execution_count": 84,
   "id": "fc00998b",
   "metadata": {},
   "outputs": [],
   "source": [
    "s = frank['title'].value_counts()"
   ]
  },
  {
   "cell_type": "code",
   "execution_count": 85,
   "id": "b28567e7",
   "metadata": {},
   "outputs": [
    {
     "data": {
      "text/plain": [
       "The Muppet Movie                            8\n",
       "The Muppets Take Manhattan                  7\n",
       "The Muppet Christmas Carol                  7\n",
       "The Great Muppet Caper                      6\n",
       "Muppets from Space                          4\n",
       "Muppet Treasure Island                      4\n",
       "Sesame Street Presents: Follow that Bird    3\n",
       "The Adventures of Elmo in Grouchland        3\n",
       "An American Werewolf in London              2\n",
       "The Dark Crystal                            2\n",
       "Name: title, dtype: int64"
      ]
     },
     "execution_count": 85,
     "metadata": {},
     "output_type": "execute_result"
    }
   ],
   "source": [
    "s[s>1]"
   ]
  },
  {
   "cell_type": "code",
   "execution_count": null,
   "id": "2174d403",
   "metadata": {},
   "outputs": [],
   "source": []
  },
  {
   "cell_type": "code",
   "execution_count": null,
   "id": "ff5a49f6",
   "metadata": {},
   "outputs": [],
   "source": []
  },
  {
   "cell_type": "code",
   "execution_count": null,
   "id": "82b651f5",
   "metadata": {},
   "outputs": [],
   "source": []
  },
  {
   "cell_type": "code",
   "execution_count": null,
   "id": "87399922",
   "metadata": {},
   "outputs": [],
   "source": []
  },
  {
   "cell_type": "code",
   "execution_count": null,
   "id": "f53a331f",
   "metadata": {},
   "outputs": [],
   "source": []
  },
  {
   "cell_type": "code",
   "execution_count": null,
   "id": "d7462623",
   "metadata": {},
   "outputs": [],
   "source": []
  },
  {
   "cell_type": "code",
   "execution_count": null,
   "id": "dd2f51cb",
   "metadata": {},
   "outputs": [],
   "source": []
  },
  {
   "cell_type": "code",
   "execution_count": null,
   "id": "7ff31efa",
   "metadata": {},
   "outputs": [],
   "source": []
  },
  {
   "cell_type": "code",
   "execution_count": null,
   "id": "b0b86bde",
   "metadata": {},
   "outputs": [],
   "source": []
  },
  {
   "cell_type": "code",
   "execution_count": null,
   "id": "5463d963",
   "metadata": {},
   "outputs": [],
   "source": []
  },
  {
   "cell_type": "code",
   "execution_count": null,
   "id": "50f7c4dc",
   "metadata": {},
   "outputs": [],
   "source": []
  },
  {
   "cell_type": "code",
   "execution_count": null,
   "id": "dbf14c1b",
   "metadata": {},
   "outputs": [],
   "source": []
  },
  {
   "cell_type": "code",
   "execution_count": null,
   "id": "e170cec3",
   "metadata": {},
   "outputs": [],
   "source": []
  },
  {
   "cell_type": "code",
   "execution_count": null,
   "id": "cda59715",
   "metadata": {},
   "outputs": [],
   "source": []
  },
  {
   "cell_type": "code",
   "execution_count": null,
   "id": "323b9b68",
   "metadata": {},
   "outputs": [],
   "source": []
  },
  {
   "cell_type": "code",
   "execution_count": null,
   "id": "f945f138",
   "metadata": {},
   "outputs": [],
   "source": []
  },
  {
   "cell_type": "code",
   "execution_count": null,
   "id": "505e623c",
   "metadata": {},
   "outputs": [],
   "source": []
  },
  {
   "cell_type": "code",
   "execution_count": null,
   "id": "d6d50aad",
   "metadata": {},
   "outputs": [],
   "source": []
  },
  {
   "cell_type": "code",
   "execution_count": null,
   "id": "c327ac91",
   "metadata": {},
   "outputs": [],
   "source": []
  },
  {
   "cell_type": "code",
   "execution_count": null,
   "id": "cc890cc9",
   "metadata": {},
   "outputs": [],
   "source": []
  },
  {
   "cell_type": "code",
   "execution_count": null,
   "id": "a937fe9c",
   "metadata": {},
   "outputs": [],
   "source": []
  },
  {
   "cell_type": "code",
   "execution_count": null,
   "id": "aa57dc34",
   "metadata": {},
   "outputs": [],
   "source": []
  }
 ],
 "metadata": {
  "kernelspec": {
   "display_name": "Python 3 (ipykernel)",
   "language": "python",
   "name": "python3"
  },
  "language_info": {
   "codemirror_mode": {
    "name": "ipython",
    "version": 3
   },
   "file_extension": ".py",
   "mimetype": "text/x-python",
   "name": "python",
   "nbconvert_exporter": "python",
   "pygments_lexer": "ipython3",
   "version": "3.9.7"
  }
 },
 "nbformat": 4,
 "nbformat_minor": 5
}
