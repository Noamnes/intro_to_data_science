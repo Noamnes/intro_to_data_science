{
 "cells": [
  {
   "cell_type": "code",
   "execution_count": 5,
   "id": "5caa8bfb",
   "metadata": {},
   "outputs": [],
   "source": [
    "import numpy as np\n",
    "import pandas as pd\n",
    "import requests\n",
    "from bs4 import BeautifulSoup\n",
    "from tkinter import *\n",
    "import os"
   ]
  },
  {
   "cell_type": "code",
   "execution_count": 6,
   "id": "4f976e62",
   "metadata": {},
   "outputs": [],
   "source": [
    "def to_area(area):\n",
    "    if(area in ['תל אביב','נס ציונה - רחובות',\n",
    "               'מושבים בשרון','רמת גן - גבעתיים','רמלה - לוד','נתניה והסביבה',\n",
    "                'רעננה - כפר סבא','הוד השרון והסביבה','בקעת אונו','מושבים במרכז',\n",
    "               'גדרה יבנה והסביבה','רמת השרון - הרצליה','פתח תקוה והסביבה','ראשל\"צ והסביבה',\n",
    "               'חולון - בת ים']):\n",
    "        return \"center\"\n",
    "    if(area in ['חיפה וחוף הכרמל','טבריה והסביבה','עכו - נהריה','מושבים בצפון',\n",
    "               'קריות','עמק יזרעאל','גליל ועמקים','חדרה וישובי עמק חפר','זכרון - בנימינה',\n",
    "               'אזור צפון','כרמיאל והסביבה']):\n",
    "        return \"north\"\n",
    "    if(area in ['ירושלים והסביבה','בית שמש והסביבה',\"קיסריה והסביבה\",'מושבים בשפלה']):\n",
    "        return \"jerusalem\"\n",
    "    if(area in ['באר שבע והסביבה','אשדוד - אשקלון','מודיעין והסביבה','מושבים בדרום']):\n",
    "        return \"south\"\n",
    "    else: \n",
    "        return area"
   ]
  },
  {
   "cell_type": "code",
   "execution_count": 20,
   "id": "366c687d",
   "metadata": {},
   "outputs": [],
   "source": [
    "df = pd.read_csv(\"saved_data.csv\").iloc[:,1:]\n",
    "df = df.drop([\"firm\",\"time of ad\"],axis=1)\n",
    "df = df[df.cost != \"לא צויין\"]\n",
    "to_cost = lambda x:int(x[0:-2].replace(\",\",\"\"))\n",
    "to_int = lambda x : int(x)\n",
    "df.cost = df.cost.apply(to_cost)\n",
    "df.km = df.km.apply(to_int)\n",
    "df[\"year of prudaction\"] = df[\"year of prudaction\"].apply(to_int)\n",
    "type_dummies = pd.get_dummies(df.car_type).iloc[:,1:]\n",
    "df = pd.concat([df,type_dummies], axis = 1)\n",
    "df = df.rename(columns={\"רכב פרטי\":\"private\",\"רכב מסחרי\":\"commercial\",\"משאיות\":\"tracks\"})\n",
    "df = df.drop(columns={\"car_type\"})\n",
    "df = df[df[\"km\"]<=10**6]\n",
    "df = df[(df[\"cost\"]<=200_000)&(df[\"km\"]<=600_000)]\n",
    "df = df[(df[\"area\"]!= \"יישובי השומרון\")&(df[\"area\"]!= \"אילת והערבה\")]\n",
    "df[\"area\"] = df[\"area\"].apply(to_area)"
   ]
  },
  {
   "cell_type": "code",
   "execution_count": 23,
   "id": "cf58ce0d",
   "metadata": {},
   "outputs": [
    {
     "data": {
      "text/html": [
       "<div>\n",
       "<style scoped>\n",
       "    .dataframe tbody tr th:only-of-type {\n",
       "        vertical-align: middle;\n",
       "    }\n",
       "\n",
       "    .dataframe tbody tr th {\n",
       "        vertical-align: top;\n",
       "    }\n",
       "\n",
       "    .dataframe thead th {\n",
       "        text-align: right;\n",
       "    }\n",
       "</style>\n",
       "<table border=\"1\" class=\"dataframe\">\n",
       "  <thead>\n",
       "    <tr style=\"text-align: right;\">\n",
       "      <th></th>\n",
       "      <th>cost</th>\n",
       "      <th>area</th>\n",
       "    </tr>\n",
       "  </thead>\n",
       "  <tbody>\n",
       "    <tr>\n",
       "      <th>0</th>\n",
       "      <td>102000</td>\n",
       "      <td>center</td>\n",
       "    </tr>\n",
       "    <tr>\n",
       "      <th>1</th>\n",
       "      <td>43210</td>\n",
       "      <td>center</td>\n",
       "    </tr>\n",
       "    <tr>\n",
       "      <th>2</th>\n",
       "      <td>70000</td>\n",
       "      <td>north</td>\n",
       "    </tr>\n",
       "    <tr>\n",
       "      <th>3</th>\n",
       "      <td>57000</td>\n",
       "      <td>north</td>\n",
       "    </tr>\n",
       "    <tr>\n",
       "      <th>4</th>\n",
       "      <td>38500</td>\n",
       "      <td>north</td>\n",
       "    </tr>\n",
       "    <tr>\n",
       "      <th>...</th>\n",
       "      <td>...</td>\n",
       "      <td>...</td>\n",
       "    </tr>\n",
       "    <tr>\n",
       "      <th>793</th>\n",
       "      <td>142000</td>\n",
       "      <td>south</td>\n",
       "    </tr>\n",
       "    <tr>\n",
       "      <th>794</th>\n",
       "      <td>30000</td>\n",
       "      <td>north</td>\n",
       "    </tr>\n",
       "    <tr>\n",
       "      <th>796</th>\n",
       "      <td>97100</td>\n",
       "      <td>center</td>\n",
       "    </tr>\n",
       "    <tr>\n",
       "      <th>797</th>\n",
       "      <td>68000</td>\n",
       "      <td>north</td>\n",
       "    </tr>\n",
       "    <tr>\n",
       "      <th>798</th>\n",
       "      <td>65000</td>\n",
       "      <td>south</td>\n",
       "    </tr>\n",
       "  </tbody>\n",
       "</table>\n",
       "<p>582 rows × 2 columns</p>\n",
       "</div>"
      ],
      "text/plain": [
       "       cost    area\n",
       "0    102000  center\n",
       "1     43210  center\n",
       "2     70000   north\n",
       "3     57000   north\n",
       "4     38500   north\n",
       "..      ...     ...\n",
       "793  142000   south\n",
       "794   30000   north\n",
       "796   97100  center\n",
       "797   68000   north\n",
       "798   65000   south\n",
       "\n",
       "[582 rows x 2 columns]"
      ]
     },
     "execution_count": 23,
     "metadata": {},
     "output_type": "execute_result"
    }
   ],
   "source": [
    "df = df[[\"cost\",\"area\"]]\n",
    "df"
   ]
  },
  {
   "cell_type": "code",
   "execution_count": 24,
   "id": "2fce29b3",
   "metadata": {},
   "outputs": [
    {
     "data": {
      "text/html": [
       "<div>\n",
       "<style scoped>\n",
       "    .dataframe tbody tr th:only-of-type {\n",
       "        vertical-align: middle;\n",
       "    }\n",
       "\n",
       "    .dataframe tbody tr th {\n",
       "        vertical-align: top;\n",
       "    }\n",
       "\n",
       "    .dataframe thead th {\n",
       "        text-align: right;\n",
       "    }\n",
       "</style>\n",
       "<table border=\"1\" class=\"dataframe\">\n",
       "  <thead>\n",
       "    <tr style=\"text-align: right;\">\n",
       "      <th></th>\n",
       "      <th>cost</th>\n",
       "      <th>area</th>\n",
       "    </tr>\n",
       "  </thead>\n",
       "  <tbody>\n",
       "  </tbody>\n",
       "</table>\n",
       "</div>"
      ],
      "text/plain": [
       "Empty DataFrame\n",
       "Columns: [cost, area]\n",
       "Index: []"
      ]
     },
     "execution_count": 24,
     "metadata": {},
     "output_type": "execute_result"
    }
   ],
   "source": [
    "df[(df[\"area\"]!=\"center\")&\n",
    "  (df[\"area\"]!=\"north\")&\n",
    "  (df[\"area\"]!=\"south\")&\n",
    "  (df[\"area\"]!=\"jerusalem\")]"
   ]
  },
  {
   "cell_type": "code",
   "execution_count": 25,
   "id": "73843bcd",
   "metadata": {},
   "outputs": [],
   "source": [
    "df.to_csv(\"saved_data_for_visual.csv\")"
   ]
  },
  {
   "cell_type": "code",
   "execution_count": null,
   "id": "78ea7a42",
   "metadata": {},
   "outputs": [],
   "source": []
  }
 ],
 "metadata": {
  "kernelspec": {
   "display_name": "Python 3 (ipykernel)",
   "language": "python",
   "name": "python3"
  },
  "language_info": {
   "codemirror_mode": {
    "name": "ipython",
    "version": 3
   },
   "file_extension": ".py",
   "mimetype": "text/x-python",
   "name": "python",
   "nbconvert_exporter": "python",
   "pygments_lexer": "ipython3",
   "version": "3.9.7"
  }
 },
 "nbformat": 4,
 "nbformat_minor": 5
}
