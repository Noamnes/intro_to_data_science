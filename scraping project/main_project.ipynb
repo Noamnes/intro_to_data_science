{
 "cells": [
  {
   "cell_type": "markdown",
   "id": "c0c26fe7",
   "metadata": {},
   "source": [
    "# scraping project for intro to data science"
   ]
  },
  {
   "cell_type": "code",
   "execution_count": 9,
   "id": "6141c317",
   "metadata": {},
   "outputs": [],
   "source": [
    "import numpy as np\n",
    "import pandas as pd\n",
    "import requests\n",
    "from bs4 import BeautifulSoup\n",
    "from tkinter import *\n",
    "import os\n",
    "import matplotlib.pyplot as plt\n",
    "import seaborn as sns\n",
    "from sklearn.model_selection import train_test_split\n",
    "from sklearn.metrics import mean_absolute_error, mean_squared_error,r2_score\n",
    "from sklearn.linear_model import LinearRegression, LassoCV, Lasso,Ridge, RidgeCV"
   ]
  },
  {
   "cell_type": "markdown",
   "id": "62d729bd",
   "metadata": {},
   "source": [
    "## aid functions:"
   ]
  },
  {
   "cell_type": "code",
   "execution_count": 10,
   "id": "21c6bb0b",
   "metadata": {},
   "outputs": [],
   "source": [
    "def maximum(grades):\n",
    "    m = grades[0]\n",
    "    for lis in grades:\n",
    "        if(lis[0]>m[0]):\n",
    "            m = lis\n",
    "    return m"
   ]
  },
  {
   "cell_type": "code",
   "execution_count": 11,
   "id": "c63d575f",
   "metadata": {},
   "outputs": [],
   "source": [
    "def poly_gridsearch_r2(X,y):\n",
    "    grades = []\n",
    "    for n in range(1,10):\n",
    "        for bias in [True,False]:\n",
    "            for interaction in [True,False]:\n",
    "                for intercept in [True,False]:\n",
    "                    pre_process = PolynomialFeatures(degree=n,include_bias=bias,interaction_only=interaction)\n",
    "                    X_poly = pre_process.fit_transform(X)\n",
    "                    linreg = LinearRegression(fit_intercept=intercept)\n",
    "                    scores = cross_val_score(linreg,X_poly,y,cv=10,scoring=\"r2\")\n",
    "                    grades.append([scores.mean(),n,bias,interaction,intercept])\n",
    "    return maximum(grades)"
   ]
  },
  {
   "cell_type": "code",
   "execution_count": 12,
   "id": "85f2e0ca",
   "metadata": {},
   "outputs": [],
   "source": [
    "def show_regresion_error(true_values, predictions):\n",
    "    print(\"Root Mean squared error (test):\",mean_squared_error(true_values, predictions, squared=False))\n",
    "    print(\"Mean absolute error (test):\",mean_absolute_error(true_values, predictions ))\n",
    "    print(\"R2:\",r2_score(true_values,predictions))"
   ]
  },
  {
   "cell_type": "code",
   "execution_count": 13,
   "id": "a4ba13bb",
   "metadata": {},
   "outputs": [],
   "source": [
    "def zero_model(num,y):\n",
    "    y_pred_z = pd.Series([num for x in range(len(df))])\n",
    "    print(\"*zero model* rmse: \",mean_squared_error(y,y_pred_z,squared=False))\n",
    "    print(\"*zero model* mae:\",mean_absolute_error(y,y_pred_z))"
   ]
  },
  {
   "cell_type": "markdown",
   "id": "1c18d27f",
   "metadata": {},
   "source": [
    "# intro:\n",
    "### in this project we are taking cars sales ads from the \"komo\" website using web-crawling. in the site all the sales add are divided into 4 car categories: private, commersial, jeeps and trucks. in every sale ad their are the following info about the cars: \"price\",\"km driven\",\"year of prudaction\" and some uninmportent info. we know that this data isn't going to yield the best results beacuase the lack of some importent features as the car's model ,if the car have manual transmission or automatic transmission, but we'll try to make the most out of it."
   ]
  },
  {
   "cell_type": "markdown",
   "id": "95fcbb24",
   "metadata": {},
   "source": [
    "# scraping the data:"
   ]
  },
  {
   "cell_type": "code",
   "execution_count": 14,
   "id": "de305820",
   "metadata": {},
   "outputs": [],
   "source": [
    "## our target website haven't got all the sale ads in one url\n",
    "## so we'll go throgh all of the urls that store the sale ads\n",
    "## first we'll store them in a list:\n",
    "links = []\n",
    "for style in [\"private\",\"commercial\",\"jeeps\",\"trucks\"]:\n",
    "    for x in [(\"https://www.komo.co.il/code/cars/\"+style+\".asp?currPage=\"+y+\"&subLuachNum=1&collapsed=1\") for y in [\"1\",\"2\",\"3\",\"4\",\"5\",\"6\",\"7\",\"8\",\"9\",\"10\"]]:\n",
    "        links.append(x)"
   ]
  },
  {
   "cell_type": "code",
   "execution_count": 15,
   "id": "ee7347e6",
   "metadata": {},
   "outputs": [
    {
     "data": {
      "text/plain": [
       "['https://www.komo.co.il/code/cars/private.asp?currPage=1&subLuachNum=1&collapsed=1',\n",
       " 'https://www.komo.co.il/code/cars/private.asp?currPage=2&subLuachNum=1&collapsed=1',\n",
       " 'https://www.komo.co.il/code/cars/private.asp?currPage=3&subLuachNum=1&collapsed=1',\n",
       " 'https://www.komo.co.il/code/cars/private.asp?currPage=4&subLuachNum=1&collapsed=1',\n",
       " 'https://www.komo.co.il/code/cars/private.asp?currPage=5&subLuachNum=1&collapsed=1',\n",
       " 'https://www.komo.co.il/code/cars/private.asp?currPage=6&subLuachNum=1&collapsed=1',\n",
       " 'https://www.komo.co.il/code/cars/private.asp?currPage=7&subLuachNum=1&collapsed=1',\n",
       " 'https://www.komo.co.il/code/cars/private.asp?currPage=8&subLuachNum=1&collapsed=1',\n",
       " 'https://www.komo.co.il/code/cars/private.asp?currPage=9&subLuachNum=1&collapsed=1',\n",
       " 'https://www.komo.co.il/code/cars/private.asp?currPage=10&subLuachNum=1&collapsed=1',\n",
       " 'https://www.komo.co.il/code/cars/commercial.asp?currPage=1&subLuachNum=1&collapsed=1',\n",
       " 'https://www.komo.co.il/code/cars/commercial.asp?currPage=2&subLuachNum=1&collapsed=1',\n",
       " 'https://www.komo.co.il/code/cars/commercial.asp?currPage=3&subLuachNum=1&collapsed=1',\n",
       " 'https://www.komo.co.il/code/cars/commercial.asp?currPage=4&subLuachNum=1&collapsed=1',\n",
       " 'https://www.komo.co.il/code/cars/commercial.asp?currPage=5&subLuachNum=1&collapsed=1',\n",
       " 'https://www.komo.co.il/code/cars/commercial.asp?currPage=6&subLuachNum=1&collapsed=1',\n",
       " 'https://www.komo.co.il/code/cars/commercial.asp?currPage=7&subLuachNum=1&collapsed=1',\n",
       " 'https://www.komo.co.il/code/cars/commercial.asp?currPage=8&subLuachNum=1&collapsed=1',\n",
       " 'https://www.komo.co.il/code/cars/commercial.asp?currPage=9&subLuachNum=1&collapsed=1',\n",
       " 'https://www.komo.co.il/code/cars/commercial.asp?currPage=10&subLuachNum=1&collapsed=1',\n",
       " 'https://www.komo.co.il/code/cars/jeeps.asp?currPage=1&subLuachNum=1&collapsed=1',\n",
       " 'https://www.komo.co.il/code/cars/jeeps.asp?currPage=2&subLuachNum=1&collapsed=1',\n",
       " 'https://www.komo.co.il/code/cars/jeeps.asp?currPage=3&subLuachNum=1&collapsed=1',\n",
       " 'https://www.komo.co.il/code/cars/jeeps.asp?currPage=4&subLuachNum=1&collapsed=1',\n",
       " 'https://www.komo.co.il/code/cars/jeeps.asp?currPage=5&subLuachNum=1&collapsed=1',\n",
       " 'https://www.komo.co.il/code/cars/jeeps.asp?currPage=6&subLuachNum=1&collapsed=1',\n",
       " 'https://www.komo.co.il/code/cars/jeeps.asp?currPage=7&subLuachNum=1&collapsed=1',\n",
       " 'https://www.komo.co.il/code/cars/jeeps.asp?currPage=8&subLuachNum=1&collapsed=1',\n",
       " 'https://www.komo.co.il/code/cars/jeeps.asp?currPage=9&subLuachNum=1&collapsed=1',\n",
       " 'https://www.komo.co.il/code/cars/jeeps.asp?currPage=10&subLuachNum=1&collapsed=1',\n",
       " 'https://www.komo.co.il/code/cars/trucks.asp?currPage=1&subLuachNum=1&collapsed=1',\n",
       " 'https://www.komo.co.il/code/cars/trucks.asp?currPage=2&subLuachNum=1&collapsed=1',\n",
       " 'https://www.komo.co.il/code/cars/trucks.asp?currPage=3&subLuachNum=1&collapsed=1',\n",
       " 'https://www.komo.co.il/code/cars/trucks.asp?currPage=4&subLuachNum=1&collapsed=1',\n",
       " 'https://www.komo.co.il/code/cars/trucks.asp?currPage=5&subLuachNum=1&collapsed=1',\n",
       " 'https://www.komo.co.il/code/cars/trucks.asp?currPage=6&subLuachNum=1&collapsed=1',\n",
       " 'https://www.komo.co.il/code/cars/trucks.asp?currPage=7&subLuachNum=1&collapsed=1',\n",
       " 'https://www.komo.co.il/code/cars/trucks.asp?currPage=8&subLuachNum=1&collapsed=1',\n",
       " 'https://www.komo.co.il/code/cars/trucks.asp?currPage=9&subLuachNum=1&collapsed=1',\n",
       " 'https://www.komo.co.il/code/cars/trucks.asp?currPage=10&subLuachNum=1&collapsed=1']"
      ]
     },
     "execution_count": 15,
     "metadata": {},
     "output_type": "execute_result"
    }
   ],
   "source": [
    " ## the following code aproves that we have all the links we need:\n",
    "links"
   ]
  },
  {
   "cell_type": "code",
   "execution_count": 16,
   "id": "910037a3",
   "metadata": {},
   "outputs": [],
   "source": [
    "        ## now w'll make a list of the soup varables of the\n",
    "        ## websites!\n",
    "        ### note that the code below requests information from 40\n",
    "        ### websites so it might take up to a minate for it to end \n",
    "        ### all the requests\n",
    "soups = []\n",
    "for x in links:\n",
    "    page = requests.get(x)\n",
    "    soup = BeautifulSoup(page.text,\"html.parser\")\n",
    "    soups.append(soup)"
   ]
  },
  {
   "cell_type": "code",
   "execution_count": 17,
   "id": "9ae0a71f",
   "metadata": {},
   "outputs": [],
   "source": [
    "   ## now we'll use all the soup variables to \n",
    "        ## get the data we need!\n",
    "data = []\n",
    "for x in soups:\n",
    "    for tr in (x.findAll(\"tr\" ,bgcolor=\"#FFFFFF\")):\n",
    "        values = [td.text for td in tr.findAll(\"td\")]\n",
    "        data.append(values)"
   ]
  },
  {
   "cell_type": "code",
   "execution_count": 18,
   "id": "f1bc42f6",
   "metadata": {},
   "outputs": [
    {
     "name": "stdout",
     "output_type": "stream",
     "text": [
      "800\n"
     ]
    }
   ],
   "source": [
    "        ## the code below approve that we have all the needed data\n",
    "        ## and the amount of samples matches the value we expected.\n",
    "        ## that's beacuse we took information from 40 websites \n",
    "        ## which on every one of them there are 20 sale ads!\n",
    "print(len(data))\n"
   ]
  },
  {
   "cell_type": "code",
   "execution_count": 19,
   "id": "877f3597",
   "metadata": {},
   "outputs": [
    {
     "name": "stdout",
     "output_type": "stream",
     "text": [
      "<class 'str'>\n",
      "<class 'str'>\n",
      "<class 'str'>\n",
      "<class 'str'>\n",
      "<class 'str'>\n",
      "<class 'str'>\n"
     ]
    }
   ],
   "source": [
    "        ## the code below tells us that all the details about the cars\n",
    "        ## are stored in string varbales so we will change them to \n",
    "        ## int type in the foregoing\n",
    "print(type(data[0][0]))\n",
    "print(type(data[10][1]))\n",
    "print(type(data[80][2]))\n",
    "print(type(data[120][3]))\n",
    "print(type(data[500][4]))\n",
    "print(type(data[600][5]))"
   ]
  },
  {
   "cell_type": "code",
   "execution_count": 20,
   "id": "a0ec2266",
   "metadata": {},
   "outputs": [
    {
     "data": {
      "text/html": [
       "<div>\n",
       "<style scoped>\n",
       "    .dataframe tbody tr th:only-of-type {\n",
       "        vertical-align: middle;\n",
       "    }\n",
       "\n",
       "    .dataframe tbody tr th {\n",
       "        vertical-align: top;\n",
       "    }\n",
       "\n",
       "    .dataframe thead th {\n",
       "        text-align: right;\n",
       "    }\n",
       "</style>\n",
       "<table border=\"1\" class=\"dataframe\">\n",
       "  <thead>\n",
       "    <tr style=\"text-align: right;\">\n",
       "      <th></th>\n",
       "      <th>car_type</th>\n",
       "      <th>firm</th>\n",
       "      <th>area</th>\n",
       "      <th>km</th>\n",
       "      <th>cost</th>\n",
       "      <th>year of prudaction</th>\n",
       "      <th>time of ad</th>\n",
       "    </tr>\n",
       "  </thead>\n",
       "  <tbody>\n",
       "    <tr>\n",
       "      <th>0</th>\n",
       "      <td>רכב פרטי</td>\n",
       "      <td>פיאט - 500X</td>\n",
       "      <td>מושבים בשרון</td>\n",
       "      <td>36000</td>\n",
       "      <td>69,000 ₪</td>\n",
       "      <td>2017</td>\n",
       "      <td>1 ימים</td>\n",
       "    </tr>\n",
       "    <tr>\n",
       "      <th>1</th>\n",
       "      <td>רכב פרטי</td>\n",
       "      <td>פיג’ו - 208</td>\n",
       "      <td>חיפה וחוף הכרמל</td>\n",
       "      <td>100000</td>\n",
       "      <td>28,500 ₪</td>\n",
       "      <td>2014</td>\n",
       "      <td>3 שעות</td>\n",
       "    </tr>\n",
       "    <tr>\n",
       "      <th>2</th>\n",
       "      <td>רכב פרטי</td>\n",
       "      <td>יונדאי - i30</td>\n",
       "      <td>ירושלים והסביבה</td>\n",
       "      <td>209000</td>\n",
       "      <td>30,500 ₪</td>\n",
       "      <td>2013</td>\n",
       "      <td>3 שעות</td>\n",
       "    </tr>\n",
       "    <tr>\n",
       "      <th>3</th>\n",
       "      <td>רכב פרטי</td>\n",
       "      <td>ב.מ.וו - סדרה 7</td>\n",
       "      <td>ירושלים והסביבה</td>\n",
       "      <td>220000</td>\n",
       "      <td>89,500 ₪</td>\n",
       "      <td>2010</td>\n",
       "      <td>4 שעות</td>\n",
       "    </tr>\n",
       "    <tr>\n",
       "      <th>4</th>\n",
       "      <td>רכב פרטי</td>\n",
       "      <td>מאזדה - 3</td>\n",
       "      <td>תל אביב</td>\n",
       "      <td>19000</td>\n",
       "      <td>102,000 ₪</td>\n",
       "      <td>2017</td>\n",
       "      <td>25 ימים</td>\n",
       "    </tr>\n",
       "    <tr>\n",
       "      <th>...</th>\n",
       "      <td>...</td>\n",
       "      <td>...</td>\n",
       "      <td>...</td>\n",
       "      <td>...</td>\n",
       "      <td>...</td>\n",
       "      <td>...</td>\n",
       "      <td>...</td>\n",
       "    </tr>\n",
       "    <tr>\n",
       "      <th>795</th>\n",
       "      <td>משאיות</td>\n",
       "      <td>פיג’ו - בוקסר ארוך גבוה  דיזל</td>\n",
       "      <td>חולון - בת ים</td>\n",
       "      <td>109000</td>\n",
       "      <td>70,000 ₪</td>\n",
       "      <td>2015</td>\n",
       "      <td>10 ימים</td>\n",
       "    </tr>\n",
       "    <tr>\n",
       "      <th>796</th>\n",
       "      <td>משאיות</td>\n",
       "      <td>מיצובישי - Canter</td>\n",
       "      <td>אשדוד - אשקלון</td>\n",
       "      <td>226000</td>\n",
       "      <td>65,000 ₪</td>\n",
       "      <td>2010</td>\n",
       "      <td>10 ימים</td>\n",
       "    </tr>\n",
       "    <tr>\n",
       "      <th>797</th>\n",
       "      <td>משאיות</td>\n",
       "      <td>שברולט - סילברדו</td>\n",
       "      <td>רעננה - כפר סבא</td>\n",
       "      <td>226500</td>\n",
       "      <td>97,100 ₪</td>\n",
       "      <td>2017</td>\n",
       "      <td>10 ימים</td>\n",
       "    </tr>\n",
       "    <tr>\n",
       "      <th>798</th>\n",
       "      <td>משאיות</td>\n",
       "      <td>וולוו - Fh 460 EURO 6</td>\n",
       "      <td>מושבים בצפון</td>\n",
       "      <td>123456789</td>\n",
       "      <td>1,000 ₪</td>\n",
       "      <td>2018</td>\n",
       "      <td>10 ימים</td>\n",
       "    </tr>\n",
       "    <tr>\n",
       "      <th>799</th>\n",
       "      <td>משאיות</td>\n",
       "      <td>איווקו - 40c13 רישיון ב</td>\n",
       "      <td>גליל ועמקים</td>\n",
       "      <td>120000</td>\n",
       "      <td>40,000 ₪</td>\n",
       "      <td>2001</td>\n",
       "      <td>10 ימים</td>\n",
       "    </tr>\n",
       "  </tbody>\n",
       "</table>\n",
       "<p>800 rows × 7 columns</p>\n",
       "</div>"
      ],
      "text/plain": [
       "     car_type                           firm             area         km  \\\n",
       "0    רכב פרטי                    פיאט - 500X     מושבים בשרון      36000   \n",
       "1    רכב פרטי                    פיג’ו - 208  חיפה וחוף הכרמל     100000   \n",
       "2    רכב פרטי                   יונדאי - i30  ירושלים והסביבה     209000   \n",
       "3    רכב פרטי                ב.מ.וו - סדרה 7  ירושלים והסביבה     220000   \n",
       "4    רכב פרטי                      מאזדה - 3          תל אביב      19000   \n",
       "..        ...                            ...              ...        ...   \n",
       "795    משאיות  פיג’ו - בוקסר ארוך גבוה  דיזל    חולון - בת ים     109000   \n",
       "796    משאיות              מיצובישי - Canter   אשדוד - אשקלון     226000   \n",
       "797    משאיות               שברולט - סילברדו  רעננה - כפר סבא     226500   \n",
       "798    משאיות          וולוו - Fh 460 EURO 6     מושבים בצפון  123456789   \n",
       "799    משאיות        איווקו - 40c13 רישיון ב      גליל ועמקים     120000   \n",
       "\n",
       "          cost year of prudaction time of ad  \n",
       "0     69,000 ₪               2017    1 ימים   \n",
       "1     28,500 ₪               2014    3 שעות   \n",
       "2     30,500 ₪               2013    3 שעות   \n",
       "3     89,500 ₪               2010    4 שעות   \n",
       "4    102,000 ₪               2017   25 ימים   \n",
       "..         ...                ...        ...  \n",
       "795   70,000 ₪               2015   10 ימים   \n",
       "796   65,000 ₪               2010   10 ימים   \n",
       "797   97,100 ₪               2017   10 ימים   \n",
       "798    1,000 ₪               2018   10 ימים   \n",
       "799   40,000 ₪               2001   10 ימים   \n",
       "\n",
       "[800 rows x 7 columns]"
      ]
     },
     "execution_count": 20,
     "metadata": {},
     "output_type": "execute_result"
    }
   ],
   "source": [
    "        ## now we are turning the data list into a dataframe!\n",
    "df = pd.DataFrame(data,columns=[\"car_type\",\"firm\",\"area\",\"km\",\"cost\",\"year of prudaction\",\"time of ad\"])\n",
    "df"
   ]
  },
  {
   "cell_type": "markdown",
   "id": "122fe1e1",
   "metadata": {},
   "source": [
    "# cleaning the data:\n",
    "        "
   ]
  },
  {
   "cell_type": "markdown",
   "id": "e099f5af",
   "metadata": {},
   "source": [
    "### note that we saved the df ahead of time, so that all the analysis and operations that we made to it would be conssistent."
   ]
  },
  {
   "cell_type": "code",
   "execution_count": 22,
   "id": "99cbaf69",
   "metadata": {},
   "outputs": [
    {
     "data": {
      "text/html": [
       "<div>\n",
       "<style scoped>\n",
       "    .dataframe tbody tr th:only-of-type {\n",
       "        vertical-align: middle;\n",
       "    }\n",
       "\n",
       "    .dataframe tbody tr th {\n",
       "        vertical-align: top;\n",
       "    }\n",
       "\n",
       "    .dataframe thead th {\n",
       "        text-align: right;\n",
       "    }\n",
       "</style>\n",
       "<table border=\"1\" class=\"dataframe\">\n",
       "  <thead>\n",
       "    <tr style=\"text-align: right;\">\n",
       "      <th></th>\n",
       "      <th>car_type</th>\n",
       "      <th>firm</th>\n",
       "      <th>area</th>\n",
       "      <th>km</th>\n",
       "      <th>cost</th>\n",
       "      <th>year of prudaction</th>\n",
       "      <th>time of ad</th>\n",
       "    </tr>\n",
       "  </thead>\n",
       "  <tbody>\n",
       "    <tr>\n",
       "      <th>0</th>\n",
       "      <td>רכב פרטי</td>\n",
       "      <td>מאזדה - 3</td>\n",
       "      <td>תל אביב</td>\n",
       "      <td>19000</td>\n",
       "      <td>102,000 ₪</td>\n",
       "      <td>2017</td>\n",
       "      <td>24 ימים</td>\n",
       "    </tr>\n",
       "    <tr>\n",
       "      <th>1</th>\n",
       "      <td>רכב פרטי</td>\n",
       "      <td>קיה - סיד</td>\n",
       "      <td>רמלה - לוד</td>\n",
       "      <td>175000</td>\n",
       "      <td>43,210 ₪</td>\n",
       "      <td>2016</td>\n",
       "      <td>5 שעות</td>\n",
       "    </tr>\n",
       "  </tbody>\n",
       "</table>\n",
       "</div>"
      ],
      "text/plain": [
       "   car_type       firm        area      km       cost  year of prudaction  \\\n",
       "0  רכב פרטי  מאזדה - 3     תל אביב   19000  102,000 ₪                2017   \n",
       "1  רכב פרטי  קיה - סיד  רמלה - לוד  175000   43,210 ₪                2016   \n",
       "\n",
       "  time of ad  \n",
       "0   24 ימים   \n",
       "1    5 שעות   "
      ]
     },
     "execution_count": 22,
     "metadata": {},
     "output_type": "execute_result"
    }
   ],
   "source": [
    "        ## we saved the df ahead of time\n",
    "df = pd.read_csv(\"data/saved_data.csv\").iloc[:,1:]\n",
    "df.head(2)"
   ]
  },
  {
   "cell_type": "code",
   "execution_count": 23,
   "id": "234ee4c4",
   "metadata": {},
   "outputs": [
    {
     "name": "stdout",
     "output_type": "stream",
     "text": [
      "car types: ['רכב פרטי' 'רכב מסחרי' \"ג'יפים\" 'משאיות'] \n",
      "\n",
      "רכב פרטי     200\n",
      "רכב מסחרי    200\n",
      "ג'יפים       200\n",
      "משאיות       200\n",
      "Name: car_type, dtype: int64 \n",
      "\n",
      "different costs of *cars*(all types): 232 \n",
      "\n",
      "different costs of *privates*: 109 \n",
      "\n",
      "different costs of *comercial*: 95 \n",
      "\n",
      "different cost of *jeeps*: 125 \n",
      "\n",
      "different cost of *trucks*: 62\n"
     ]
    }
   ],
   "source": [
    "        ## cheking if the data have resonable values:\n",
    "print(\"car types:\",df.car_type.unique(),'\\n')\n",
    "print(df.car_type.value_counts(),'\\n')\n",
    "print(\"different costs of *cars*(all types):\",len(df.cost.unique()),'\\n')\n",
    "print(\"different costs of *privates*:\",len(df[df.car_type == \"רכב פרטי\"].cost.unique()),'\\n')\n",
    "print(\"different costs of *comercial*:\",len(df[df.car_type == \"רכב מסחרי\"].cost.unique()),'\\n')\n",
    "print(\"different cost of *jeeps*:\",len(df[df.car_type == \"ג'יפים\"].cost.unique()),'\\n')\n",
    "print(\"different cost of *trucks*:\",len(df[df.car_type == \"משאיות\"].cost.unique()))\n",
    "    ## in the code below we can see that\n",
    "    ## the amount of unique cost seems resonable - there isn't too much repetition,\n",
    "    ## so the data looks fine."
   ]
  },
  {
   "cell_type": "code",
   "execution_count": 24,
   "id": "b87e6e70",
   "metadata": {},
   "outputs": [
    {
     "name": "stdout",
     "output_type": "stream",
     "text": [
      "374\n"
     ]
    },
    {
     "data": {
      "text/plain": [
       "array(['מאזדה - 3', 'קיה - סיד', 'מרצדס - E-CLASS', 'מאזדה - 5',\n",
       "       'ב.מ.וו - סדרה 5', 'פיג’ו - 208', 'הונדה - ג’אז', 'פורד - פיאסטה',\n",
       "       'יונדאי - i10', 'פיאט - 500X', 'טויוטה - יאריס', 'טויוטה - אוריס',\n",
       "       'יונדאי - אלנטרה', 'סוזוקי - בלנו', 'יונדאי - i35', 'פיג’ו - 2008',\n",
       "       'סקודה - סופרב', 'שברולט - מאליבו', 'קיה - פיקנטו', 'סובארו - XV',\n",
       "       'סובארו - אאוטבק', 'שברולט - קרוז', 'סוזוקי - SX4', 'אופל - אסטרה',\n",
       "       'טויוטה - פריוס', 'סקודה - אוקטביה', 'אאודי - A7',\n",
       "       'סוזוקי - איגניס', 'הונדה - סיוויק', 'פיאט - פונטו ספייס',\n",
       "       'טויוטה - קורולה', 'סובארו - B4', 'רנו - קליאו B',\n",
       "       'ב.מ.וו - סדרה 4', 'הונדה - אקורד', 'סוזוקי - סוויפט',\n",
       "       'פיאט - 500', 'ניסאן - ', 'יונדאי - i20', 'אלפא רומאו - ג’ולייטה',\n",
       "       'הונדה - סיוויק האצ’בק החדשה', 'שברולט - אקווינוקס',\n",
       "       'סיטרואן - C אליזה', 'פורד - מונדאו', 'טויוטה - C-HR',\n",
       "       'רנו - גרנד קופה', 'סוזוקי - קרוסאובר', 'רנו - קפצ’ור',\n",
       "       'מאזדה - 2', 'וולוו - S60', 'רנו - קליאו אסטייט', 'קיה - סול',\n",
       "       'רנו - קליאו', 'סקודה - פאביה', 'יונדאי - i30cw',\n",
       "       'סיטרואן - C4 פיקאסו', 'פולקסווגן - ג’טה', 'ניסאן - מיקרה',\n",
       "       'פולקסווגן - פולו', 'פיג’ו - 107', 'טויוטה - אייגו',\n",
       "       'קיה - נירו הייבריד', 'אאודי - A6', 'אאודי - 80',\n",
       "       'מיני - קופר קבריולט', 'דייהטסו - סיריון', 'יונדאי - i30',\n",
       "       'קאדילק - ATS', 'פורד - גלאקסי', 'קיה - פורטה', 'מרצדס - S-350',\n",
       "       'סיאט - לאון', 'טויוטה - קאמרי', 'יונדאי - i25',\n",
       "       'מרצדס - AMG S63 4MATIC', 'סיאט - איביזה', 'פורד - S-מקס',\n",
       "       'מאזדה - 6', 'סוזוקי - ספלאש', 'קיה - סטוניק', 'פורד - פוקוס',\n",
       "       'שברולט - אורלנדו', 'פיאט - אברת’ / ABARTH', 'אאודי - A4',\n",
       "       'ב.מ.וו - סדרה 7', 'דאצ’יה - סנדרו', 'פיג’ו - 3008',\n",
       "       'סיטרואן - C4 קקטוס', 'דייהו - נובירה', 'רנו - קנגו',\n",
       "       'שברולט - טראקס', 'פולקסווגן - גולף GTI', 'מיצובישי - ',\n",
       "       'רנו - טווינגו', 'מרצדס - C-CLASS', 'שברולט - ויואנט',\n",
       "       'קיה - קרניבל', 'ב.מ.וו - סדרה 1', 'קרייזלר - 300C',\n",
       "       'מיצובישי - ספייס סטאר', 'פולקסווגן - גולף פלוס',\n",
       "       'פולקסווגן - פאסאט', 'רנו - פלואנס', 'פולקסווגן - גולף',\n",
       "       'שברולט - אפיקה', 'קרייזלר - גראנד וויאג’ר', 'סיטרואן - ברלינגו',\n",
       "       'איסוזו - 4X4 D-MAX', 'רנו - מאסטר קצר/בינוני',\n",
       "       'סיטרואן - ברלינגו דור 2 (2008-2019)', 'מיצובישי - מאגנום 4X4',\n",
       "       'טויוטה - היילקס ויגו 2X4', 'מיצובישי - L200 האנטר 2X4',\n",
       "       'גרייט וול - סטיד / Steed', 'רנו - מאסטר ארוך',\n",
       "       'טויוטה - היילקס ויגו 4X4', 'סיטרואן - ברלינגו דור 3 (2018 ואילך)',\n",
       "       'פולקסווגן - מולטיוואן', 'פיאט - דובלו', 'פורד - F-350',\n",
       "       'טויוטה - היילקס 4X4', 'פיאט - קובו', 'פורד - טרנזיט',\n",
       "       'פיאט - דוקאטו', 'דודג’ - ראם ארוך', 'מרצדס - ויטו',\n",
       "       'סובארו - טנדר 2X4', 'פולקסווגן - קאדי', 'שברולט - סילברדו',\n",
       "       'פורד - F-250', 'יונדאי - i800', 'שברולט - סוואנה ארוך',\n",
       "       'פורד - קונקט', 'איסוזו - 2X4 D-MAX', 'איווקו - דיילי החדשה',\n",
       "       'מרצדס - V-Class', 'איסוזו - איפון 4X4', 'מרצדס - ספרינטר',\n",
       "       'פיג’ו - פרטנר', 'פיג’ו - בוקסר', 'קיה - סופרטראק',\n",
       "       'רנו - טראפיק קצר', 'דודג’ - ראם קצר', 'פולקסווגן - טרנספורטר',\n",
       "       'מיצובישי - L200', 'שברולט - סוואנה קצר', 'יונדאי - H1',\n",
       "       'פיאג’ו - פורטר', 'איסוזו - איפון 2X4', 'שברולט - קולורדו',\n",
       "       'פיאט - פיורינו', 'סובארו - טנדר 4X4', 'פולקסווגן - קראוול',\n",
       "       'סיטרואן - ג’אמפי קצר/בינוני', 'טויוטה - הייאס קצר',\n",
       "       'דאציה - דוקר', 'ניסאן - NV200', 'ניסאן - נבארה 4X4',\n",
       "       'טויוטה - היילקס 2X4', 'מיצובישי - מאגנום 2X4', 'מאזדה - BT50 2X4',\n",
       "       'איווקו - 50c14v', 'ב.מ.וו - X3', 'גי.אם.סי - סוברבן',\n",
       "       'ניסאן - אקס טרייל', 'סקודה - ייטי / Yeti', 'יונדאי - סנטה פה',\n",
       "       'ניסאן - קשקאי', 'אאודי - Q5', 'ניסאן - ג’וק JUKE', 'מאזדה - CX5',\n",
       "       'מיצובישי - אאוטלנדר', 'קיה - ספורטז’', 'סיאט - ארונה',\n",
       "       'יונדאי - טוסון', 'אאודי - E-tron', 'טויוטה - RAV4 הייבריד',\n",
       "       'הונדה - CR-V', 'פולקסווגן - טיגואן', 'סוזוקי - ויטרה',\n",
       "       'אאודי - Q2', 'אינפיניטי - QX60', 'יונדאי - IX35',\n",
       "       'סקודה - קודיאק', 'סובארו - פורסטר', 'סוזוקי - גרנד ויטרה',\n",
       "       'שברולט - קפטיבה', 'סיאט - אטקה', 'טויוטה - לנד קרוזר קצר',\n",
       "       'טויוטה - RAV4 ארוך', 'הונדה - HR-V', 'קיה - סורנטו',\n",
       "       'מרצדס - GLA', 'פורד - קוגה', 'מיצובישי - פג’רו קצר',\n",
       "       'סקודה - קארוק', 'טויוטה - לנד קרוזר ארוך', 'מיצובישי - ASX',\n",
       "       'וולוו - XC60', 'דאציה - דאסטר', 'האמר - H3',\n",
       "       'מיצובישי - פג’רו ארוך', 'ניסאן - פאת’פיינדר', 'וולוו - XC90',\n",
       "       'לנד רובר - רינג’ רובר', 'טויוטה - לנד קרוזר', 'מרצדס - GLE',\n",
       "       'יונדאי - קונה', 'ב.מ.וו - X7', 'דאציה - דאסטר החדש',\n",
       "       'מאזדה - CX30', 'לנד רובר - דיסקברי ספורט', 'לנד רובר - דיסקברי 1',\n",
       "       'גי’פ / Jeep - גרנד צ’ירוקי', 'וולוו - XC40',\n",
       "       'סיטרואן - C5 איירקרוס', 'שברולט - טראוורס', 'ב.מ.וו - X5',\n",
       "       'קיה - סלטוס', 'פורשה - קאיין', 'אינפיניטי - QX30',\n",
       "       'אופל - גרנדלנד X', 'דייהטסו - טריוס', 'סוזוקי - ג’ימני',\n",
       "       'יונדאי - גאלופר קצר', 'לקסוס - NX',\n",
       "       'לנד רובר - ריינג’ רובר ספורט', 'ניסאן - טראנו קצר', 'ב.מ.וו - X1',\n",
       "       'לקסוס - RX400h', 'איסוזו - טרופר ארוך', 'לנד רובר - דיסקברי 2',\n",
       "       'איסוזו - ', 'וולוו - הייבר', 'וולוו - Fh', 'מרצדס - Actros',\n",
       "       'רנו - מאסטר גבוה', 'סקניה - 360', 'רנו - מנדלום',\n",
       "       'איסוזו - Npr75', 'דאף - ', 'איווקו - ', 'רנו - גרר',\n",
       "       'סקניה - R440', 'מרצדס - NEW ACTROS 2524L',\n",
       "       'איווקו - איווקו 15 טון דבל קבינה', 'וולוו - FLL42',\n",
       "       'איסוזו - 10 טון', 'דאף - 55', 'דאף - 45', 'וולוו - ',\n",
       "       'טויוטה - הינו', 'איווקו - דיילי', 'וולוו - Fl6', 'וולוו - Fh460',\n",
       "       'GMC - גמסי', 'וולוו - FH', 'וולוו - 240', 'איסוזו - NPR85',\n",
       "       'טויוטה - ', 'מאן - A1 עד 47 כ\"ס', 'מאן - TGM', 'רנו - ',\n",
       "       'איווקו - 150', 'איסוזו - סומו', 'דאף - FA 55.250',\n",
       "       'דאף - CF 26 טון', 'וולוו - 614', 'רנו - מידלום 280 כ\"ס',\n",
       "       'סקניה - R450', 'איווקו - יורוקרגו', 'איסוזו - 7.5 טון',\n",
       "       'רנו - מידלום עד 18 טון', 'איסוזו - 7.5 טון ידני', 'איסוזו - יורו',\n",
       "       'איווקו - יורו קרגו', 'איסוזו - 12 טון 7.8 ארגז וילונות',\n",
       "       'וולוו - Fe 320 2015 מנוף גרייפר', 'דאף - lf 55 220',\n",
       "       'מאן - Bb220', 'מיצובישי - קאנטר', 'מיצובישי - קנטר פוסו',\n",
       "       'מרצדס - Atego 1018', 'מיצובישי - פוסו', 'וולוו - Fh 460 הייבר',\n",
       "       'מאן - 15 טון', 'וולוו - FL6', 'איסוזו - איסוזו מנוף 10 טון',\n",
       "       'איסוזו - N2 משא למיכלי גפ\"מ', 'רנו - 460 , 26 טון', 'דאף - Lf',\n",
       "       'סקניה - 380', 'דאף - Daf', 'וולוו - FE', 'סקניה - 580',\n",
       "       'מאן - Tgm', 'וולוו - FH460', 'וולוו - 460', 'איווקו - דילי c15',\n",
       "       'מרצדס - ספרינטר cdi', 'סקניה - R380', 'רנו - מאטר',\n",
       "       'איסוזו - 7.5 ton', 'וולוו - fh500', 'מרצדס - אטגו 814',\n",
       "       'רנו - 15 טון', 'סקניה - P 400', 'וולוו - A2 עד 125 סמ\"ק/14 כ\"ס',\n",
       "       'וולוו - FH12', 'טויוטה - hino', 'וולוו - fl 250', 'דאף - Xf 530',\n",
       "       'סקניה - 440 דבל דבל שמונה על ארבע', 'מאן - ',\n",
       "       'איסוזו - 12 טון fsr', 'מרצדס - אקטרוס', 'דאף - Cf',\n",
       "       'וולוו - Fh8x4', 'רנו - Premium', 'וולוו - נתמך וילון קירור 13.60',\n",
       "       'איווקו - 26 טון', 'איסוזו - 7.5', 'מרצדס - ארקוס',\n",
       "       'מרצדס - אקרתרוס', 'שברולט - סילבראדו', 'סקניה - 32 טון',\n",
       "       'רנו - מידלום 18 טון מנוע 280 כ\"ס', 'קנוורת’ - ',\n",
       "       'סקניה - 260 18 טון', 'מיצובישי - פוסו קאנטר 7.5 טון',\n",
       "       'מרצדס - Sprenter 519', 'רנו - מידלום מנוף ברזל/גזם 18 טון',\n",
       "       'רנו - מידליום', 'וולוו - סוס 4*6 קפיצים ידני TL-460',\n",
       "       'סקניה - 440 6/4', 'פולקסווגן - קרפטר', 'מאן - משא להובלת רכב',\n",
       "       'איסוזו - סומו 7.5 טון', 'איווקו - 410', 'סקניה - 6/2 440',\n",
       "       'מרצדס - ', 'וולוו - Fh450', 'סקניה - סוס סנגל', 'מרצדס - 815',\n",
       "       'רנו - C520', 'רנו - 380', 'רנו - מידלום 15 טון', 'וולוו - Fh13',\n",
       "       'סקניה - 400', 'איווקו - 450', 'מאן - TGS', 'סקניה - P400',\n",
       "       'רנו - פרימיום', 'איסוזו - 12 טון', 'סקניה - R 440',\n",
       "       'איווקו - משא תומך', 'ניסאן - Cabstar', 'מאן - 420 מערבל בטון',\n",
       "       'רנו - 12טון', 'רנו - מידלום 280+מנוף פאסי 235+פרק',\n",
       "       'מאן - TGM 15 250BB', 'איווקו - 65c18d', 'וולוו - Fh 460 EURO 6',\n",
       "       'איווקו - 40c13 רישיון ב', 'מאן - Tgs26360', 'מיצובישי - קנטר',\n",
       "       'פיג’ו - בוקסר ארוך גבוה  דיזל', 'איסוזו - NPR75',\n",
       "       'איסוזו - סומו 7.5', 'פולקסווגן - Lt46', 'פורד - S4U',\n",
       "       'דאף - 45.180', 'מיצובישי - Canter', 'וולוו - FH6*4'], dtype=object)"
      ]
     },
     "execution_count": 24,
     "metadata": {},
     "output_type": "execute_result"
    }
   ],
   "source": [
    "        ## i wanted to use the car firm as a feature\n",
    "        ## but we can see in the code below that the\n",
    "        ## name given to each car in the website \n",
    "        ## is the firm of the car and the model of the\n",
    "        ## car - and that's without a pattern (sometimes\n",
    "        ## the firm name is first and sometimes the model name\n",
    "        ## is first),hence it would be a painstaking work to-\n",
    "        ## categorize all the cars to their firms as a feature.\n",
    "        ## so we'll drop this column.\n",
    "print(len(df.firm.unique()))\n",
    "df.firm.unique()"
   ]
  },
  {
   "cell_type": "code",
   "execution_count": 25,
   "id": "03b52242",
   "metadata": {},
   "outputs": [
    {
     "data": {
      "text/html": [
       "<div>\n",
       "<style scoped>\n",
       "    .dataframe tbody tr th:only-of-type {\n",
       "        vertical-align: middle;\n",
       "    }\n",
       "\n",
       "    .dataframe tbody tr th {\n",
       "        vertical-align: top;\n",
       "    }\n",
       "\n",
       "    .dataframe thead th {\n",
       "        text-align: right;\n",
       "    }\n",
       "</style>\n",
       "<table border=\"1\" class=\"dataframe\">\n",
       "  <thead>\n",
       "    <tr style=\"text-align: right;\">\n",
       "      <th></th>\n",
       "      <th>car_type</th>\n",
       "      <th>area</th>\n",
       "      <th>km</th>\n",
       "      <th>cost</th>\n",
       "      <th>year of prudaction</th>\n",
       "    </tr>\n",
       "  </thead>\n",
       "  <tbody>\n",
       "    <tr>\n",
       "      <th>0</th>\n",
       "      <td>רכב פרטי</td>\n",
       "      <td>תל אביב</td>\n",
       "      <td>19000</td>\n",
       "      <td>102,000 ₪</td>\n",
       "      <td>2017</td>\n",
       "    </tr>\n",
       "    <tr>\n",
       "      <th>1</th>\n",
       "      <td>רכב פרטי</td>\n",
       "      <td>רמלה - לוד</td>\n",
       "      <td>175000</td>\n",
       "      <td>43,210 ₪</td>\n",
       "      <td>2016</td>\n",
       "    </tr>\n",
       "    <tr>\n",
       "      <th>2</th>\n",
       "      <td>רכב פרטי</td>\n",
       "      <td>חיפה וחוף הכרמל</td>\n",
       "      <td>129000</td>\n",
       "      <td>70,000 ₪</td>\n",
       "      <td>2009</td>\n",
       "    </tr>\n",
       "    <tr>\n",
       "      <th>3</th>\n",
       "      <td>רכב פרטי</td>\n",
       "      <td>חיפה וחוף הכרמל</td>\n",
       "      <td>144000</td>\n",
       "      <td>57,000 ₪</td>\n",
       "      <td>2012</td>\n",
       "    </tr>\n",
       "    <tr>\n",
       "      <th>4</th>\n",
       "      <td>רכב פרטי</td>\n",
       "      <td>חיפה וחוף הכרמל</td>\n",
       "      <td>138853</td>\n",
       "      <td>38,500 ₪</td>\n",
       "      <td>2010</td>\n",
       "    </tr>\n",
       "    <tr>\n",
       "      <th>...</th>\n",
       "      <td>...</td>\n",
       "      <td>...</td>\n",
       "      <td>...</td>\n",
       "      <td>...</td>\n",
       "      <td>...</td>\n",
       "    </tr>\n",
       "    <tr>\n",
       "      <th>795</th>\n",
       "      <td>משאיות</td>\n",
       "      <td>באר שבע והסביבה</td>\n",
       "      <td>12100</td>\n",
       "      <td>לא צויין</td>\n",
       "      <td>2017</td>\n",
       "    </tr>\n",
       "    <tr>\n",
       "      <th>796</th>\n",
       "      <td>משאיות</td>\n",
       "      <td>רעננה - כפר סבא</td>\n",
       "      <td>226500</td>\n",
       "      <td>97,100 ₪</td>\n",
       "      <td>2017</td>\n",
       "    </tr>\n",
       "    <tr>\n",
       "      <th>797</th>\n",
       "      <td>משאיות</td>\n",
       "      <td>כרמיאל והסביבה</td>\n",
       "      <td>560000</td>\n",
       "      <td>68,000 ₪</td>\n",
       "      <td>2008</td>\n",
       "    </tr>\n",
       "    <tr>\n",
       "      <th>798</th>\n",
       "      <td>משאיות</td>\n",
       "      <td>אשדוד - אשקלון</td>\n",
       "      <td>226000</td>\n",
       "      <td>65,000 ₪</td>\n",
       "      <td>2010</td>\n",
       "    </tr>\n",
       "    <tr>\n",
       "      <th>799</th>\n",
       "      <td>משאיות</td>\n",
       "      <td>אשדוד - אשקלון</td>\n",
       "      <td>430000</td>\n",
       "      <td>לא צויין</td>\n",
       "      <td>2012</td>\n",
       "    </tr>\n",
       "  </tbody>\n",
       "</table>\n",
       "<p>800 rows × 5 columns</p>\n",
       "</div>"
      ],
      "text/plain": [
       "     car_type             area      km       cost  year of prudaction\n",
       "0    רכב פרטי          תל אביב   19000  102,000 ₪                2017\n",
       "1    רכב פרטי       רמלה - לוד  175000   43,210 ₪                2016\n",
       "2    רכב פרטי  חיפה וחוף הכרמל  129000   70,000 ₪                2009\n",
       "3    רכב פרטי  חיפה וחוף הכרמל  144000   57,000 ₪                2012\n",
       "4    רכב פרטי  חיפה וחוף הכרמל  138853   38,500 ₪                2010\n",
       "..        ...              ...     ...        ...                 ...\n",
       "795    משאיות  באר שבע והסביבה   12100   לא צויין                2017\n",
       "796    משאיות  רעננה - כפר סבא  226500   97,100 ₪                2017\n",
       "797    משאיות   כרמיאל והסביבה  560000   68,000 ₪                2008\n",
       "798    משאיות   אשדוד - אשקלון  226000   65,000 ₪                2010\n",
       "799    משאיות   אשדוד - אשקלון  430000   לא צויין                2012\n",
       "\n",
       "[800 rows x 5 columns]"
      ]
     },
     "execution_count": 25,
     "metadata": {},
     "output_type": "execute_result"
    }
   ],
   "source": [
    "        ## according to the explnation in the above cell - we won't use the \"firm\" column as \n",
    "        ## a feature.\n",
    "        ## and the \"time of add\" column is redundent (this column notes the time the ad was on the \n",
    "        ## website)\n",
    "        ## so we'll drop those two.\n",
    "df = df.drop([\"firm\",\"time of ad\"],axis=1)\n",
    "df"
   ]
  },
  {
   "cell_type": "code",
   "execution_count": 26,
   "id": "41b1238f",
   "metadata": {},
   "outputs": [
    {
     "data": {
      "text/plain": [
       "car_type              0\n",
       "area                  0\n",
       "km                    0\n",
       "cost                  0\n",
       "year of prudaction    0\n",
       "dtype: int64"
      ]
     },
     "execution_count": 26,
     "metadata": {},
     "output_type": "execute_result"
    }
   ],
   "source": [
    "        ## we'll make sure there isn't null values:\n",
    "df.isnull().sum()"
   ]
  },
  {
   "cell_type": "code",
   "execution_count": 27,
   "id": "b5b2bfa9",
   "metadata": {},
   "outputs": [
    {
     "data": {
      "text/html": [
       "<div>\n",
       "<style scoped>\n",
       "    .dataframe tbody tr th:only-of-type {\n",
       "        vertical-align: middle;\n",
       "    }\n",
       "\n",
       "    .dataframe tbody tr th {\n",
       "        vertical-align: top;\n",
       "    }\n",
       "\n",
       "    .dataframe thead th {\n",
       "        text-align: right;\n",
       "    }\n",
       "</style>\n",
       "<table border=\"1\" class=\"dataframe\">\n",
       "  <thead>\n",
       "    <tr style=\"text-align: right;\">\n",
       "      <th></th>\n",
       "      <th>car_type</th>\n",
       "      <th>area</th>\n",
       "      <th>km</th>\n",
       "      <th>cost</th>\n",
       "      <th>year of prudaction</th>\n",
       "    </tr>\n",
       "  </thead>\n",
       "  <tbody>\n",
       "    <tr>\n",
       "      <th>0</th>\n",
       "      <td>רכב פרטי</td>\n",
       "      <td>תל אביב</td>\n",
       "      <td>19000</td>\n",
       "      <td>102,000 ₪</td>\n",
       "      <td>2017</td>\n",
       "    </tr>\n",
       "    <tr>\n",
       "      <th>1</th>\n",
       "      <td>רכב פרטי</td>\n",
       "      <td>רמלה - לוד</td>\n",
       "      <td>175000</td>\n",
       "      <td>43,210 ₪</td>\n",
       "      <td>2016</td>\n",
       "    </tr>\n",
       "    <tr>\n",
       "      <th>2</th>\n",
       "      <td>רכב פרטי</td>\n",
       "      <td>חיפה וחוף הכרמל</td>\n",
       "      <td>129000</td>\n",
       "      <td>70,000 ₪</td>\n",
       "      <td>2009</td>\n",
       "    </tr>\n",
       "    <tr>\n",
       "      <th>3</th>\n",
       "      <td>רכב פרטי</td>\n",
       "      <td>חיפה וחוף הכרמל</td>\n",
       "      <td>144000</td>\n",
       "      <td>57,000 ₪</td>\n",
       "      <td>2012</td>\n",
       "    </tr>\n",
       "    <tr>\n",
       "      <th>4</th>\n",
       "      <td>רכב פרטי</td>\n",
       "      <td>חיפה וחוף הכרמל</td>\n",
       "      <td>138853</td>\n",
       "      <td>38,500 ₪</td>\n",
       "      <td>2010</td>\n",
       "    </tr>\n",
       "    <tr>\n",
       "      <th>...</th>\n",
       "      <td>...</td>\n",
       "      <td>...</td>\n",
       "      <td>...</td>\n",
       "      <td>...</td>\n",
       "      <td>...</td>\n",
       "    </tr>\n",
       "    <tr>\n",
       "      <th>793</th>\n",
       "      <td>משאיות</td>\n",
       "      <td>אשדוד - אשקלון</td>\n",
       "      <td>177000</td>\n",
       "      <td>142,000 ₪</td>\n",
       "      <td>2018</td>\n",
       "    </tr>\n",
       "    <tr>\n",
       "      <th>794</th>\n",
       "      <td>משאיות</td>\n",
       "      <td>קריות</td>\n",
       "      <td>330000</td>\n",
       "      <td>30,000 ₪</td>\n",
       "      <td>2006</td>\n",
       "    </tr>\n",
       "    <tr>\n",
       "      <th>796</th>\n",
       "      <td>משאיות</td>\n",
       "      <td>רעננה - כפר סבא</td>\n",
       "      <td>226500</td>\n",
       "      <td>97,100 ₪</td>\n",
       "      <td>2017</td>\n",
       "    </tr>\n",
       "    <tr>\n",
       "      <th>797</th>\n",
       "      <td>משאיות</td>\n",
       "      <td>כרמיאל והסביבה</td>\n",
       "      <td>560000</td>\n",
       "      <td>68,000 ₪</td>\n",
       "      <td>2008</td>\n",
       "    </tr>\n",
       "    <tr>\n",
       "      <th>798</th>\n",
       "      <td>משאיות</td>\n",
       "      <td>אשדוד - אשקלון</td>\n",
       "      <td>226000</td>\n",
       "      <td>65,000 ₪</td>\n",
       "      <td>2010</td>\n",
       "    </tr>\n",
       "  </tbody>\n",
       "</table>\n",
       "<p>637 rows × 5 columns</p>\n",
       "</div>"
      ],
      "text/plain": [
       "     car_type             area      km       cost  year of prudaction\n",
       "0    רכב פרטי          תל אביב   19000  102,000 ₪                2017\n",
       "1    רכב פרטי       רמלה - לוד  175000   43,210 ₪                2016\n",
       "2    רכב פרטי  חיפה וחוף הכרמל  129000   70,000 ₪                2009\n",
       "3    רכב פרטי  חיפה וחוף הכרמל  144000   57,000 ₪                2012\n",
       "4    רכב פרטי  חיפה וחוף הכרמל  138853   38,500 ₪                2010\n",
       "..        ...              ...     ...        ...                 ...\n",
       "793    משאיות   אשדוד - אשקלון  177000  142,000 ₪                2018\n",
       "794    משאיות            קריות  330000   30,000 ₪                2006\n",
       "796    משאיות  רעננה - כפר סבא  226500   97,100 ₪                2017\n",
       "797    משאיות   כרמיאל והסביבה  560000   68,000 ₪                2008\n",
       "798    משאיות   אשדוד - אשקלון  226000   65,000 ₪                2010\n",
       "\n",
       "[637 rows x 5 columns]"
      ]
     },
     "execution_count": 27,
     "metadata": {},
     "output_type": "execute_result"
    }
   ],
   "source": [
    "        ## there is no null values but yet not all of the \"cost\" values\n",
    "        ## are numbers that's beacause some sellers didn't mention the\n",
    "        ## price of the vechile.\n",
    "        ## now we'll delete the rows where the sale ad didn't \n",
    "        ## had a price\n",
    "df = df[df.cost != \"לא צויין\"]\n",
    "df"
   ]
  },
  {
   "cell_type": "code",
   "execution_count": 28,
   "id": "a28c76fb",
   "metadata": {},
   "outputs": [
    {
     "name": "stderr",
     "output_type": "stream",
     "text": [
      "C:\\Users\\noams\\anaconda3\\lib\\site-packages\\pandas\\core\\generic.py:5516: SettingWithCopyWarning: \n",
      "A value is trying to be set on a copy of a slice from a DataFrame.\n",
      "Try using .loc[row_indexer,col_indexer] = value instead\n",
      "\n",
      "See the caveats in the documentation: https://pandas.pydata.org/pandas-docs/stable/user_guide/indexing.html#returning-a-view-versus-a-copy\n",
      "  self[name] = value\n",
      "C:\\Users\\noams\\AppData\\Local\\Temp/ipykernel_12280/2934150884.py:8: SettingWithCopyWarning: \n",
      "A value is trying to be set on a copy of a slice from a DataFrame.\n",
      "Try using .loc[row_indexer,col_indexer] = value instead\n",
      "\n",
      "See the caveats in the documentation: https://pandas.pydata.org/pandas-docs/stable/user_guide/indexing.html#returning-a-view-versus-a-copy\n",
      "  df[\"year of prudaction\"] = df[\"year of prudaction\"].apply(to_int)\n"
     ]
    }
   ],
   "source": [
    "        ## now we'll make a function that can turn\n",
    "        ## \"cost\" column (which are of type string)\n",
    "        ## to an int type\n",
    "to_cost = lambda x:int(x[0:-2].replace(\",\",\"\"))\n",
    "to_int = lambda x : int(x)\n",
    "df.cost = df.cost.apply(to_cost)\n",
    "df.km = df.km.apply(to_int)\n",
    "df[\"year of prudaction\"] = df[\"year of prudaction\"].apply(to_int)"
   ]
  },
  {
   "cell_type": "code",
   "execution_count": 29,
   "id": "a92d723b",
   "metadata": {},
   "outputs": [
    {
     "name": "stdout",
     "output_type": "stream",
     "text": [
      "<class 'numpy.int64'>\n",
      "<class 'numpy.int64'>\n",
      "<class 'numpy.int64'>\n"
     ]
    }
   ],
   "source": [
    "        ## cheking if the type of the columns \"km\",\"cost\" and \"year of prudaction\" have changed to int:\n",
    "print(type(df.km[0]))\n",
    "print(type(df.cost[0]))\n",
    "print(type(df[\"year of prudaction\"][0]))"
   ]
  },
  {
   "cell_type": "code",
   "execution_count": 30,
   "id": "2f8c9754",
   "metadata": {},
   "outputs": [
    {
     "data": {
      "text/html": [
       "<div>\n",
       "<style scoped>\n",
       "    .dataframe tbody tr th:only-of-type {\n",
       "        vertical-align: middle;\n",
       "    }\n",
       "\n",
       "    .dataframe tbody tr th {\n",
       "        vertical-align: top;\n",
       "    }\n",
       "\n",
       "    .dataframe thead th {\n",
       "        text-align: right;\n",
       "    }\n",
       "</style>\n",
       "<table border=\"1\" class=\"dataframe\">\n",
       "  <thead>\n",
       "    <tr style=\"text-align: right;\">\n",
       "      <th></th>\n",
       "      <th>car_type</th>\n",
       "      <th>area</th>\n",
       "      <th>km</th>\n",
       "      <th>cost</th>\n",
       "      <th>year of prudaction</th>\n",
       "      <th>משאיות</th>\n",
       "      <th>רכב מסחרי</th>\n",
       "      <th>רכב פרטי</th>\n",
       "    </tr>\n",
       "  </thead>\n",
       "  <tbody>\n",
       "    <tr>\n",
       "      <th>0</th>\n",
       "      <td>רכב פרטי</td>\n",
       "      <td>תל אביב</td>\n",
       "      <td>19000</td>\n",
       "      <td>102000</td>\n",
       "      <td>2017</td>\n",
       "      <td>0</td>\n",
       "      <td>0</td>\n",
       "      <td>1</td>\n",
       "    </tr>\n",
       "    <tr>\n",
       "      <th>1</th>\n",
       "      <td>רכב פרטי</td>\n",
       "      <td>רמלה - לוד</td>\n",
       "      <td>175000</td>\n",
       "      <td>43210</td>\n",
       "      <td>2016</td>\n",
       "      <td>0</td>\n",
       "      <td>0</td>\n",
       "      <td>1</td>\n",
       "    </tr>\n",
       "    <tr>\n",
       "      <th>2</th>\n",
       "      <td>רכב פרטי</td>\n",
       "      <td>חיפה וחוף הכרמל</td>\n",
       "      <td>129000</td>\n",
       "      <td>70000</td>\n",
       "      <td>2009</td>\n",
       "      <td>0</td>\n",
       "      <td>0</td>\n",
       "      <td>1</td>\n",
       "    </tr>\n",
       "    <tr>\n",
       "      <th>3</th>\n",
       "      <td>רכב פרטי</td>\n",
       "      <td>חיפה וחוף הכרמל</td>\n",
       "      <td>144000</td>\n",
       "      <td>57000</td>\n",
       "      <td>2012</td>\n",
       "      <td>0</td>\n",
       "      <td>0</td>\n",
       "      <td>1</td>\n",
       "    </tr>\n",
       "    <tr>\n",
       "      <th>4</th>\n",
       "      <td>רכב פרטי</td>\n",
       "      <td>חיפה וחוף הכרמל</td>\n",
       "      <td>138853</td>\n",
       "      <td>38500</td>\n",
       "      <td>2010</td>\n",
       "      <td>0</td>\n",
       "      <td>0</td>\n",
       "      <td>1</td>\n",
       "    </tr>\n",
       "    <tr>\n",
       "      <th>...</th>\n",
       "      <td>...</td>\n",
       "      <td>...</td>\n",
       "      <td>...</td>\n",
       "      <td>...</td>\n",
       "      <td>...</td>\n",
       "      <td>...</td>\n",
       "      <td>...</td>\n",
       "      <td>...</td>\n",
       "    </tr>\n",
       "    <tr>\n",
       "      <th>793</th>\n",
       "      <td>משאיות</td>\n",
       "      <td>אשדוד - אשקלון</td>\n",
       "      <td>177000</td>\n",
       "      <td>142000</td>\n",
       "      <td>2018</td>\n",
       "      <td>1</td>\n",
       "      <td>0</td>\n",
       "      <td>0</td>\n",
       "    </tr>\n",
       "    <tr>\n",
       "      <th>794</th>\n",
       "      <td>משאיות</td>\n",
       "      <td>קריות</td>\n",
       "      <td>330000</td>\n",
       "      <td>30000</td>\n",
       "      <td>2006</td>\n",
       "      <td>1</td>\n",
       "      <td>0</td>\n",
       "      <td>0</td>\n",
       "    </tr>\n",
       "    <tr>\n",
       "      <th>796</th>\n",
       "      <td>משאיות</td>\n",
       "      <td>רעננה - כפר סבא</td>\n",
       "      <td>226500</td>\n",
       "      <td>97100</td>\n",
       "      <td>2017</td>\n",
       "      <td>1</td>\n",
       "      <td>0</td>\n",
       "      <td>0</td>\n",
       "    </tr>\n",
       "    <tr>\n",
       "      <th>797</th>\n",
       "      <td>משאיות</td>\n",
       "      <td>כרמיאל והסביבה</td>\n",
       "      <td>560000</td>\n",
       "      <td>68000</td>\n",
       "      <td>2008</td>\n",
       "      <td>1</td>\n",
       "      <td>0</td>\n",
       "      <td>0</td>\n",
       "    </tr>\n",
       "    <tr>\n",
       "      <th>798</th>\n",
       "      <td>משאיות</td>\n",
       "      <td>אשדוד - אשקלון</td>\n",
       "      <td>226000</td>\n",
       "      <td>65000</td>\n",
       "      <td>2010</td>\n",
       "      <td>1</td>\n",
       "      <td>0</td>\n",
       "      <td>0</td>\n",
       "    </tr>\n",
       "  </tbody>\n",
       "</table>\n",
       "<p>637 rows × 8 columns</p>\n",
       "</div>"
      ],
      "text/plain": [
       "     car_type             area      km    cost  year of prudaction  משאיות  \\\n",
       "0    רכב פרטי          תל אביב   19000  102000                2017       0   \n",
       "1    רכב פרטי       רמלה - לוד  175000   43210                2016       0   \n",
       "2    רכב פרטי  חיפה וחוף הכרמל  129000   70000                2009       0   \n",
       "3    רכב פרטי  חיפה וחוף הכרמל  144000   57000                2012       0   \n",
       "4    רכב פרטי  חיפה וחוף הכרמל  138853   38500                2010       0   \n",
       "..        ...              ...     ...     ...                 ...     ...   \n",
       "793    משאיות   אשדוד - אשקלון  177000  142000                2018       1   \n",
       "794    משאיות            קריות  330000   30000                2006       1   \n",
       "796    משאיות  רעננה - כפר סבא  226500   97100                2017       1   \n",
       "797    משאיות   כרמיאל והסביבה  560000   68000                2008       1   \n",
       "798    משאיות   אשדוד - אשקלון  226000   65000                2010       1   \n",
       "\n",
       "     רכב מסחרי  רכב פרטי  \n",
       "0            0         1  \n",
       "1            0         1  \n",
       "2            0         1  \n",
       "3            0         1  \n",
       "4            0         1  \n",
       "..         ...       ...  \n",
       "793          0         0  \n",
       "794          0         0  \n",
       "796          0         0  \n",
       "797          0         0  \n",
       "798          0         0  \n",
       "\n",
       "[637 rows x 8 columns]"
      ]
     },
     "execution_count": 30,
     "metadata": {},
     "output_type": "execute_result"
    }
   ],
   "source": [
    "        ## note that the \"car_type\" column is a string column that have\n",
    "        ## 4 possible values: \"רכב פרטי\",\"רכב מסחרי\",\"גיפים\",\"משאיות\"\n",
    "        ## we can't use this column as a feature just yet beacuase it's\n",
    "        ## a string, we could decide that רכב פרטי=1, רכב מסחרי=2, גיפים=3, but if\n",
    "        ## we'll do so we'll create a bias for the model that \"רכב פרטי\" is somehow more \"closer\"\n",
    "        ## to \"רכב מסחרי\" from \"גיפים\", which we don't want so we'll use dummy variables insted:\n",
    "type_dummies = pd.get_dummies(df.car_type).iloc[:,1:]\n",
    "df = pd.concat([df,type_dummies], axis = 1)\n",
    "df"
   ]
  },
  {
   "cell_type": "code",
   "execution_count": 31,
   "id": "0a6a4b5d",
   "metadata": {},
   "outputs": [
    {
     "data": {
      "text/html": [
       "<div>\n",
       "<style scoped>\n",
       "    .dataframe tbody tr th:only-of-type {\n",
       "        vertical-align: middle;\n",
       "    }\n",
       "\n",
       "    .dataframe tbody tr th {\n",
       "        vertical-align: top;\n",
       "    }\n",
       "\n",
       "    .dataframe thead th {\n",
       "        text-align: right;\n",
       "    }\n",
       "</style>\n",
       "<table border=\"1\" class=\"dataframe\">\n",
       "  <thead>\n",
       "    <tr style=\"text-align: right;\">\n",
       "      <th></th>\n",
       "      <th>area</th>\n",
       "      <th>km</th>\n",
       "      <th>cost</th>\n",
       "      <th>year of prudaction</th>\n",
       "      <th>tracks</th>\n",
       "      <th>commercial</th>\n",
       "      <th>private</th>\n",
       "    </tr>\n",
       "  </thead>\n",
       "  <tbody>\n",
       "    <tr>\n",
       "      <th>0</th>\n",
       "      <td>תל אביב</td>\n",
       "      <td>19000</td>\n",
       "      <td>102000</td>\n",
       "      <td>2017</td>\n",
       "      <td>0</td>\n",
       "      <td>0</td>\n",
       "      <td>1</td>\n",
       "    </tr>\n",
       "    <tr>\n",
       "      <th>1</th>\n",
       "      <td>רמלה - לוד</td>\n",
       "      <td>175000</td>\n",
       "      <td>43210</td>\n",
       "      <td>2016</td>\n",
       "      <td>0</td>\n",
       "      <td>0</td>\n",
       "      <td>1</td>\n",
       "    </tr>\n",
       "    <tr>\n",
       "      <th>2</th>\n",
       "      <td>חיפה וחוף הכרמל</td>\n",
       "      <td>129000</td>\n",
       "      <td>70000</td>\n",
       "      <td>2009</td>\n",
       "      <td>0</td>\n",
       "      <td>0</td>\n",
       "      <td>1</td>\n",
       "    </tr>\n",
       "    <tr>\n",
       "      <th>3</th>\n",
       "      <td>חיפה וחוף הכרמל</td>\n",
       "      <td>144000</td>\n",
       "      <td>57000</td>\n",
       "      <td>2012</td>\n",
       "      <td>0</td>\n",
       "      <td>0</td>\n",
       "      <td>1</td>\n",
       "    </tr>\n",
       "    <tr>\n",
       "      <th>4</th>\n",
       "      <td>חיפה וחוף הכרמל</td>\n",
       "      <td>138853</td>\n",
       "      <td>38500</td>\n",
       "      <td>2010</td>\n",
       "      <td>0</td>\n",
       "      <td>0</td>\n",
       "      <td>1</td>\n",
       "    </tr>\n",
       "    <tr>\n",
       "      <th>...</th>\n",
       "      <td>...</td>\n",
       "      <td>...</td>\n",
       "      <td>...</td>\n",
       "      <td>...</td>\n",
       "      <td>...</td>\n",
       "      <td>...</td>\n",
       "      <td>...</td>\n",
       "    </tr>\n",
       "    <tr>\n",
       "      <th>793</th>\n",
       "      <td>אשדוד - אשקלון</td>\n",
       "      <td>177000</td>\n",
       "      <td>142000</td>\n",
       "      <td>2018</td>\n",
       "      <td>1</td>\n",
       "      <td>0</td>\n",
       "      <td>0</td>\n",
       "    </tr>\n",
       "    <tr>\n",
       "      <th>794</th>\n",
       "      <td>קריות</td>\n",
       "      <td>330000</td>\n",
       "      <td>30000</td>\n",
       "      <td>2006</td>\n",
       "      <td>1</td>\n",
       "      <td>0</td>\n",
       "      <td>0</td>\n",
       "    </tr>\n",
       "    <tr>\n",
       "      <th>796</th>\n",
       "      <td>רעננה - כפר סבא</td>\n",
       "      <td>226500</td>\n",
       "      <td>97100</td>\n",
       "      <td>2017</td>\n",
       "      <td>1</td>\n",
       "      <td>0</td>\n",
       "      <td>0</td>\n",
       "    </tr>\n",
       "    <tr>\n",
       "      <th>797</th>\n",
       "      <td>כרמיאל והסביבה</td>\n",
       "      <td>560000</td>\n",
       "      <td>68000</td>\n",
       "      <td>2008</td>\n",
       "      <td>1</td>\n",
       "      <td>0</td>\n",
       "      <td>0</td>\n",
       "    </tr>\n",
       "    <tr>\n",
       "      <th>798</th>\n",
       "      <td>אשדוד - אשקלון</td>\n",
       "      <td>226000</td>\n",
       "      <td>65000</td>\n",
       "      <td>2010</td>\n",
       "      <td>1</td>\n",
       "      <td>0</td>\n",
       "      <td>0</td>\n",
       "    </tr>\n",
       "  </tbody>\n",
       "</table>\n",
       "<p>637 rows × 7 columns</p>\n",
       "</div>"
      ],
      "text/plain": [
       "                area      km    cost  year of prudaction  tracks  commercial  \\\n",
       "0            תל אביב   19000  102000                2017       0           0   \n",
       "1         רמלה - לוד  175000   43210                2016       0           0   \n",
       "2    חיפה וחוף הכרמל  129000   70000                2009       0           0   \n",
       "3    חיפה וחוף הכרמל  144000   57000                2012       0           0   \n",
       "4    חיפה וחוף הכרמל  138853   38500                2010       0           0   \n",
       "..               ...     ...     ...                 ...     ...         ...   \n",
       "793   אשדוד - אשקלון  177000  142000                2018       1           0   \n",
       "794            קריות  330000   30000                2006       1           0   \n",
       "796  רעננה - כפר סבא  226500   97100                2017       1           0   \n",
       "797   כרמיאל והסביבה  560000   68000                2008       1           0   \n",
       "798   אשדוד - אשקלון  226000   65000                2010       1           0   \n",
       "\n",
       "     private  \n",
       "0          1  \n",
       "1          1  \n",
       "2          1  \n",
       "3          1  \n",
       "4          1  \n",
       "..       ...  \n",
       "793        0  \n",
       "794        0  \n",
       "796        0  \n",
       "797        0  \n",
       "798        0  \n",
       "\n",
       "[637 rows x 7 columns]"
      ]
     },
     "execution_count": 31,
     "metadata": {},
     "output_type": "execute_result"
    }
   ],
   "source": [
    "        ## we'll rename the variables to english\n",
    "        ## and drop the \"car_type\" column since\n",
    "        ## we don't need it anymore\n",
    "df = df.rename(columns={\"רכב פרטי\":\"private\",\"רכב מסחרי\":\"commercial\",\"משאיות\":\"tracks\"})\n",
    "df = df.drop(columns={\"car_type\"})\n",
    "df"
   ]
  },
  {
   "cell_type": "markdown",
   "id": "72c6b1c3",
   "metadata": {},
   "source": [
    "# visualizing the data:"
   ]
  },
  {
   "cell_type": "code",
   "execution_count": 32,
   "id": "531a1ee2",
   "metadata": {},
   "outputs": [
    {
     "data": {
      "text/plain": [
       "array([[<AxesSubplot:title={'center':'km'}>,\n",
       "        <AxesSubplot:title={'center':'cost'}>],\n",
       "       [<AxesSubplot:title={'center':'year of prudaction'}>,\n",
       "        <AxesSubplot:title={'center':'tracks'}>],\n",
       "       [<AxesSubplot:title={'center':'commercial'}>,\n",
       "        <AxesSubplot:title={'center':'private'}>]], dtype=object)"
      ]
     },
     "execution_count": 32,
     "metadata": {},
     "output_type": "execute_result"
    },
    {
     "data": {
      "image/png": "[encoded data removed]",
      "text/plain": [
       "<Figure size 1440x1440 with 6 Axes>"
      ]
     },
     "metadata": {
      "needs_background": "light"
     },
     "output_type": "display_data"
    }
   ],
   "source": [
    "        ## let's start visulazie the data:\n",
    "df.hist(figsize=(20,20),bins=42)"
   ]
  },
  {
   "cell_type": "code",
   "execution_count": 35,
   "id": "b5064e15",
   "metadata": {},
   "outputs": [
    {
     "name": "stdout",
     "output_type": "stream",
     "text": [
      "number of sales with huge km value: 0\n"
     ]
    }
   ],
   "source": [
    "    ## we can see that there was a typo in the km column, in one of the sales the mentioned km was 10**8 which is of course\n",
    "    ## nonsence and probebly a typo\n",
    "    ## there is only sale ad with such a typo so we'll just drop this row.\n",
    "print(\"number of sales with huge km value:\",len(df[df[\"km\"]>=10**6]))\n",
    "df = df[df[\"km\"]<=10**6]"
   ]
  },
  {
   "cell_type": "code",
   "execution_count": 36,
   "id": "50648727",
   "metadata": {},
   "outputs": [
    {
     "data": {
      "text/plain": [
       "array([[<AxesSubplot:title={'center':'km'}>,\n",
       "        <AxesSubplot:title={'center':'cost'}>],\n",
       "       [<AxesSubplot:title={'center':'year of prudaction'}>,\n",
       "        <AxesSubplot:title={'center':'tracks'}>],\n",
       "       [<AxesSubplot:title={'center':'commercial'}>,\n",
       "        <AxesSubplot:title={'center':'private'}>]], dtype=object)"
      ]
     },
     "execution_count": 36,
     "metadata": {},
     "output_type": "execute_result"
    },
    {
     "data": {
      "image/png": "[encoded data removed]",
      "text/plain": [
       "<Figure size 1080x1080 with 6 Axes>"
      ]
     },
     "metadata": {
      "needs_background": "light"
     },
     "output_type": "display_data"
    }
   ],
   "source": [
    "df.hist(figsize=(15,15),bins=42)"
   ]
  },
  {
   "cell_type": "code",
   "execution_count": 40,
   "id": "3b172418",
   "metadata": {},
   "outputs": [
    {
     "name": "stdout",
     "output_type": "stream",
     "text": [
      "7\n",
      "4\n"
     ]
    },
    {
     "data": {
      "text/html": [
       "<div>\n",
       "<style scoped>\n",
       "    .dataframe tbody tr th:only-of-type {\n",
       "        vertical-align: middle;\n",
       "    }\n",
       "\n",
       "    .dataframe tbody tr th {\n",
       "        vertical-align: top;\n",
       "    }\n",
       "\n",
       "    .dataframe thead th {\n",
       "        text-align: right;\n",
       "    }\n",
       "</style>\n",
       "<table border=\"1\" class=\"dataframe\">\n",
       "  <thead>\n",
       "    <tr style=\"text-align: right;\">\n",
       "      <th></th>\n",
       "      <th>area</th>\n",
       "      <th>km</th>\n",
       "      <th>cost</th>\n",
       "      <th>year of prudaction</th>\n",
       "      <th>tracks</th>\n",
       "      <th>commercial</th>\n",
       "      <th>private</th>\n",
       "    </tr>\n",
       "  </thead>\n",
       "  <tbody>\n",
       "    <tr>\n",
       "      <th>0</th>\n",
       "      <td>תל אביב</td>\n",
       "      <td>19000</td>\n",
       "      <td>102000</td>\n",
       "      <td>2017</td>\n",
       "      <td>0</td>\n",
       "      <td>0</td>\n",
       "      <td>1</td>\n",
       "    </tr>\n",
       "    <tr>\n",
       "      <th>1</th>\n",
       "      <td>רמלה - לוד</td>\n",
       "      <td>175000</td>\n",
       "      <td>43210</td>\n",
       "      <td>2016</td>\n",
       "      <td>0</td>\n",
       "      <td>0</td>\n",
       "      <td>1</td>\n",
       "    </tr>\n",
       "    <tr>\n",
       "      <th>2</th>\n",
       "      <td>חיפה וחוף הכרמל</td>\n",
       "      <td>129000</td>\n",
       "      <td>70000</td>\n",
       "      <td>2009</td>\n",
       "      <td>0</td>\n",
       "      <td>0</td>\n",
       "      <td>1</td>\n",
       "    </tr>\n",
       "    <tr>\n",
       "      <th>3</th>\n",
       "      <td>חיפה וחוף הכרמל</td>\n",
       "      <td>144000</td>\n",
       "      <td>57000</td>\n",
       "      <td>2012</td>\n",
       "      <td>0</td>\n",
       "      <td>0</td>\n",
       "      <td>1</td>\n",
       "    </tr>\n",
       "    <tr>\n",
       "      <th>4</th>\n",
       "      <td>חיפה וחוף הכרמל</td>\n",
       "      <td>138853</td>\n",
       "      <td>38500</td>\n",
       "      <td>2010</td>\n",
       "      <td>0</td>\n",
       "      <td>0</td>\n",
       "      <td>1</td>\n",
       "    </tr>\n",
       "    <tr>\n",
       "      <th>...</th>\n",
       "      <td>...</td>\n",
       "      <td>...</td>\n",
       "      <td>...</td>\n",
       "      <td>...</td>\n",
       "      <td>...</td>\n",
       "      <td>...</td>\n",
       "      <td>...</td>\n",
       "    </tr>\n",
       "    <tr>\n",
       "      <th>793</th>\n",
       "      <td>אשדוד - אשקלון</td>\n",
       "      <td>177000</td>\n",
       "      <td>142000</td>\n",
       "      <td>2018</td>\n",
       "      <td>1</td>\n",
       "      <td>0</td>\n",
       "      <td>0</td>\n",
       "    </tr>\n",
       "    <tr>\n",
       "      <th>794</th>\n",
       "      <td>קריות</td>\n",
       "      <td>330000</td>\n",
       "      <td>30000</td>\n",
       "      <td>2006</td>\n",
       "      <td>1</td>\n",
       "      <td>0</td>\n",
       "      <td>0</td>\n",
       "    </tr>\n",
       "    <tr>\n",
       "      <th>796</th>\n",
       "      <td>רעננה - כפר סבא</td>\n",
       "      <td>226500</td>\n",
       "      <td>97100</td>\n",
       "      <td>2017</td>\n",
       "      <td>1</td>\n",
       "      <td>0</td>\n",
       "      <td>0</td>\n",
       "    </tr>\n",
       "    <tr>\n",
       "      <th>797</th>\n",
       "      <td>כרמיאל והסביבה</td>\n",
       "      <td>560000</td>\n",
       "      <td>68000</td>\n",
       "      <td>2008</td>\n",
       "      <td>1</td>\n",
       "      <td>0</td>\n",
       "      <td>0</td>\n",
       "    </tr>\n",
       "    <tr>\n",
       "      <th>798</th>\n",
       "      <td>אשדוד - אשקלון</td>\n",
       "      <td>226000</td>\n",
       "      <td>65000</td>\n",
       "      <td>2010</td>\n",
       "      <td>1</td>\n",
       "      <td>0</td>\n",
       "      <td>0</td>\n",
       "    </tr>\n",
       "  </tbody>\n",
       "</table>\n",
       "<p>595 rows × 7 columns</p>\n",
       "</div>"
      ],
      "text/plain": [
       "                area      km    cost  year of prudaction  tracks  commercial  \\\n",
       "0            תל אביב   19000  102000                2017       0           0   \n",
       "1         רמלה - לוד  175000   43210                2016       0           0   \n",
       "2    חיפה וחוף הכרמל  129000   70000                2009       0           0   \n",
       "3    חיפה וחוף הכרמל  144000   57000                2012       0           0   \n",
       "4    חיפה וחוף הכרמל  138853   38500                2010       0           0   \n",
       "..               ...     ...     ...                 ...     ...         ...   \n",
       "793   אשדוד - אשקלון  177000  142000                2018       1           0   \n",
       "794            קריות  330000   30000                2006       1           0   \n",
       "796  רעננה - כפר סבא  226500   97100                2017       1           0   \n",
       "797   כרמיאל והסביבה  560000   68000                2008       1           0   \n",
       "798   אשדוד - אשקלון  226000   65000                2010       1           0   \n",
       "\n",
       "     private  \n",
       "0          1  \n",
       "1          1  \n",
       "2          1  \n",
       "3          1  \n",
       "4          1  \n",
       "..       ...  \n",
       "793        0  \n",
       "794        0  \n",
       "796        0  \n",
       "797        0  \n",
       "798        0  \n",
       "\n",
       "[595 rows x 7 columns]"
      ]
     },
     "execution_count": 40,
     "metadata": {},
     "output_type": "execute_result"
    }
   ],
   "source": [
    "    ## we can see there is alot of outliers in the \"cost\" column, there is very little sales ads where the\n",
    "    ## price is above 200_000 but all those sales ads are very varied, same goes for the km colum.\n",
    "    ## so in order to make the model much more accurate we will drop those values.\n",
    "    ## (we saved a model with these outliers values in saved_data_with_outliers.csv file,\n",
    "    ## and showed how we created it in making data with outliers.ipynb file)\n",
    "print(df[df[\"cost\"]>=200_000].shape[0])\n",
    "print(df[df[\"km\"]>=600_000].shape[0])\n",
    "df = df[(df[\"cost\"]<=200_000)&(df[\"km\"]<=600_000)]\n",
    "df"
   ]
  },
  {
   "cell_type": "code",
   "execution_count": 41,
   "id": "a3a6c296",
   "metadata": {},
   "outputs": [
    {
     "data": {
      "text/plain": [
       "array([[<AxesSubplot:title={'center':'km'}>,\n",
       "        <AxesSubplot:title={'center':'cost'}>],\n",
       "       [<AxesSubplot:title={'center':'year of prudaction'}>,\n",
       "        <AxesSubplot:title={'center':'tracks'}>],\n",
       "       [<AxesSubplot:title={'center':'commercial'}>,\n",
       "        <AxesSubplot:title={'center':'private'}>]], dtype=object)"
      ]
     },
     "execution_count": 41,
     "metadata": {},
     "output_type": "execute_result"
    },
    {
     "data": {
      "image/png": "[encoded data removed]",
      "text/plain": [
       "<Figure size 1080x1080 with 6 Axes>"
      ]
     },
     "metadata": {
      "needs_background": "light"
     },
     "output_type": "display_data"
    }
   ],
   "source": [
    "df.hist(figsize=(15,15),bins=42)"
   ]
  },
  {
   "cell_type": "code",
   "execution_count": 42,
   "id": "76531521",
   "metadata": {},
   "outputs": [
    {
     "data": {
      "text/plain": [
       "array(['תל אביב', 'רמלה - לוד', 'חיפה וחוף הכרמל', 'גדרה יבנה והסביבה',\n",
       "       'עכו - נהריה', 'נס ציונה - רחובות', 'רמת גן - גבעתיים',\n",
       "       'רמת השרון - הרצליה', 'אשדוד - אשקלון', 'מושבים בשרון',\n",
       "       'פתח תקוה והסביבה', 'ראשל\"צ והסביבה', 'ירושלים והסביבה',\n",
       "       'בקעת אונו', 'חולון - בת ים', 'מושבים בצפון', 'כרמיאל והסביבה',\n",
       "       'בית שמש והסביבה', 'נתניה והסביבה', 'טבריה והסביבה', 'קריות',\n",
       "       'מודיעין והסביבה', 'עמק יזרעאל', 'רעננה - כפר סבא',\n",
       "       'באר שבע והסביבה', 'יישובי השומרון', 'חדרה וישובי עמק חפר',\n",
       "       'הוד השרון והסביבה', 'גליל ועמקים', 'זכרון - בנימינה',\n",
       "       'מושבים בדרום', 'מושבים בשפלה', 'אזור צפון', 'מושבים במרכז',\n",
       "       'אילת והערבה'], dtype=object)"
      ]
     },
     "execution_count": 42,
     "metadata": {},
     "output_type": "execute_result"
    }
   ],
   "source": [
    "    ## right now we can't use the \"area\" column as a feature beacause it's of type string.\n",
    "    ## lets see if we divide this column into dummy variables:\n",
    "df.area.unique()"
   ]
  },
  {
   "cell_type": "code",
   "execution_count": 456,
   "id": "2fc8bc43",
   "metadata": {},
   "outputs": [],
   "source": [
    "#     we can see in the cell above that there is too much diffrent values in \"area\" column\n",
    "#     so we can't divie it to dummiy variables\n",
    "#     but we'll walk throgh the options manually and make a function that will create a new\n",
    "#     column which divieds the values in \"area\" to \"north\",\"south\",\"center\",\"jerosalem\"\n",
    "#     this func will be implemented in another notebook called 'making data with area.ipynb'\n",
    "#     and in this notebook we'll just use the df created with this func and that has dummiy\n",
    "#     variables that represent \"north\",\"south\",\"center\",\"jerosalem\".\n",
    "#     but for now we'll delete the \"area\" column."
   ]
  },
  {
   "cell_type": "code",
   "execution_count": 43,
   "id": "38305218",
   "metadata": {},
   "outputs": [],
   "source": [
    "    ## we'll delete the \"area\" column in df\n",
    "df.drop(columns=\"area\",inplace=True)"
   ]
  },
  {
   "cell_type": "code",
   "execution_count": 44,
   "id": "e3a2e4a0",
   "metadata": {},
   "outputs": [
    {
     "data": {
      "text/html": [
       "<div>\n",
       "<style scoped>\n",
       "    .dataframe tbody tr th:only-of-type {\n",
       "        vertical-align: middle;\n",
       "    }\n",
       "\n",
       "    .dataframe tbody tr th {\n",
       "        vertical-align: top;\n",
       "    }\n",
       "\n",
       "    .dataframe thead th {\n",
       "        text-align: right;\n",
       "    }\n",
       "</style>\n",
       "<table border=\"1\" class=\"dataframe\">\n",
       "  <thead>\n",
       "    <tr style=\"text-align: right;\">\n",
       "      <th></th>\n",
       "      <th>cost</th>\n",
       "      <th>km</th>\n",
       "      <th>year of prudaction</th>\n",
       "      <th>tracks</th>\n",
       "      <th>commercial</th>\n",
       "      <th>private</th>\n",
       "    </tr>\n",
       "  </thead>\n",
       "  <tbody>\n",
       "    <tr>\n",
       "      <th>0</th>\n",
       "      <td>102000</td>\n",
       "      <td>19000</td>\n",
       "      <td>2017</td>\n",
       "      <td>0</td>\n",
       "      <td>0</td>\n",
       "      <td>1</td>\n",
       "    </tr>\n",
       "    <tr>\n",
       "      <th>1</th>\n",
       "      <td>43210</td>\n",
       "      <td>175000</td>\n",
       "      <td>2016</td>\n",
       "      <td>0</td>\n",
       "      <td>0</td>\n",
       "      <td>1</td>\n",
       "    </tr>\n",
       "    <tr>\n",
       "      <th>2</th>\n",
       "      <td>70000</td>\n",
       "      <td>129000</td>\n",
       "      <td>2009</td>\n",
       "      <td>0</td>\n",
       "      <td>0</td>\n",
       "      <td>1</td>\n",
       "    </tr>\n",
       "    <tr>\n",
       "      <th>3</th>\n",
       "      <td>57000</td>\n",
       "      <td>144000</td>\n",
       "      <td>2012</td>\n",
       "      <td>0</td>\n",
       "      <td>0</td>\n",
       "      <td>1</td>\n",
       "    </tr>\n",
       "    <tr>\n",
       "      <th>4</th>\n",
       "      <td>38500</td>\n",
       "      <td>138853</td>\n",
       "      <td>2010</td>\n",
       "      <td>0</td>\n",
       "      <td>0</td>\n",
       "      <td>1</td>\n",
       "    </tr>\n",
       "    <tr>\n",
       "      <th>...</th>\n",
       "      <td>...</td>\n",
       "      <td>...</td>\n",
       "      <td>...</td>\n",
       "      <td>...</td>\n",
       "      <td>...</td>\n",
       "      <td>...</td>\n",
       "    </tr>\n",
       "    <tr>\n",
       "      <th>793</th>\n",
       "      <td>142000</td>\n",
       "      <td>177000</td>\n",
       "      <td>2018</td>\n",
       "      <td>1</td>\n",
       "      <td>0</td>\n",
       "      <td>0</td>\n",
       "    </tr>\n",
       "    <tr>\n",
       "      <th>794</th>\n",
       "      <td>30000</td>\n",
       "      <td>330000</td>\n",
       "      <td>2006</td>\n",
       "      <td>1</td>\n",
       "      <td>0</td>\n",
       "      <td>0</td>\n",
       "    </tr>\n",
       "    <tr>\n",
       "      <th>796</th>\n",
       "      <td>97100</td>\n",
       "      <td>226500</td>\n",
       "      <td>2017</td>\n",
       "      <td>1</td>\n",
       "      <td>0</td>\n",
       "      <td>0</td>\n",
       "    </tr>\n",
       "    <tr>\n",
       "      <th>797</th>\n",
       "      <td>68000</td>\n",
       "      <td>560000</td>\n",
       "      <td>2008</td>\n",
       "      <td>1</td>\n",
       "      <td>0</td>\n",
       "      <td>0</td>\n",
       "    </tr>\n",
       "    <tr>\n",
       "      <th>798</th>\n",
       "      <td>65000</td>\n",
       "      <td>226000</td>\n",
       "      <td>2010</td>\n",
       "      <td>1</td>\n",
       "      <td>0</td>\n",
       "      <td>0</td>\n",
       "    </tr>\n",
       "  </tbody>\n",
       "</table>\n",
       "<p>595 rows × 6 columns</p>\n",
       "</div>"
      ],
      "text/plain": [
       "       cost      km  year of prudaction  tracks  commercial  private\n",
       "0    102000   19000                2017       0           0        1\n",
       "1     43210  175000                2016       0           0        1\n",
       "2     70000  129000                2009       0           0        1\n",
       "3     57000  144000                2012       0           0        1\n",
       "4     38500  138853                2010       0           0        1\n",
       "..      ...     ...                 ...     ...         ...      ...\n",
       "793  142000  177000                2018       1           0        0\n",
       "794   30000  330000                2006       1           0        0\n",
       "796   97100  226500                2017       1           0        0\n",
       "797   68000  560000                2008       1           0        0\n",
       "798   65000  226000                2010       1           0        0\n",
       "\n",
       "[595 rows x 6 columns]"
      ]
     },
     "execution_count": 44,
     "metadata": {},
     "output_type": "execute_result"
    }
   ],
   "source": [
    "        ## we'll rearange the the data frame so that cost will be the first column:\n",
    "df = df[[\"cost\",\"km\",\"year of prudaction\",\"tracks\",\"commercial\",\"private\"]]\n",
    "df"
   ]
  },
  {
   "cell_type": "code",
   "execution_count": 45,
   "id": "56fd5e00",
   "metadata": {},
   "outputs": [
    {
     "data": {
      "text/plain": [
       "[<matplotlib.lines.Line2D at 0x206d800fc70>]"
      ]
     },
     "execution_count": 45,
     "metadata": {},
     "output_type": "execute_result"
    },
    {
     "data": {
      "image/png": "[encoded data removed]",
      "text/plain": [
       "<Figure size 432x288 with 1 Axes>"
      ]
     },
     "metadata": {
      "needs_background": "light"
     },
     "output_type": "display_data"
    }
   ],
   "source": [
    "        ## now lets see the connection beatween the features and the target:\n",
    "import matplotlib.pyplot as plt\n",
    "plt.plot(df[\"km\"],df.cost,\"o\")\n"
   ]
  },
  {
   "cell_type": "code",
   "execution_count": 46,
   "id": "f7cc4be1",
   "metadata": {},
   "outputs": [
    {
     "data": {
      "text/plain": [
       "[<matplotlib.lines.Line2D at 0x206d83e1460>]"
      ]
     },
     "execution_count": 46,
     "metadata": {},
     "output_type": "execute_result"
    },
    {
     "data": {
      "image/png": "[encoded data removed]",
      "text/plain": [
       "<Figure size 432x288 with 1 Axes>"
      ]
     },
     "metadata": {
      "needs_background": "light"
     },
     "output_type": "display_data"
    }
   ],
   "source": [
    "plt.plot(df[\"year of prudaction\"],df.cost,\"o\")"
   ]
  },
  {
   "cell_type": "code",
   "execution_count": 47,
   "id": "31788d6c",
   "metadata": {},
   "outputs": [],
   "source": [
    "    ## it's seems that the relation between the \"year of prudacion\" and the \"cost\" is roghtlly of second power,\n",
    "    ## and that the relation between \"km\" and \"cost\" is more complcated then a linear relation\n",
    "    ## so polynomial reggretion should bring better results then linear reggretion."
   ]
  },
  {
   "cell_type": "code",
   "execution_count": 49,
   "id": "7b2de9cf",
   "metadata": {},
   "outputs": [
    {
     "data": {
      "text/plain": [
       "[<matplotlib.lines.Line2D at 0x206d84ad700>]"
      ]
     },
     "execution_count": 49,
     "metadata": {},
     "output_type": "execute_result"
    },
    {
     "data": {
      "image/png": "[encoded data removed]",
      "text/plain": [
       "<Figure size 432x288 with 1 Axes>"
      ]
     },
     "metadata": {
      "needs_background": "light"
     },
     "output_type": "display_data"
    }
   ],
   "source": [
    "    ## now let's check if the new feature that we talked about- \"area\" can help the model preform better:\n",
    "    ## note that we didn't created the temp df in this notebook but in notebook called \n",
    "    ## \"making data for visualization.ipynb\" and we \"read\" it from our data folder.\n",
    "temp = pd.read_csv(\"data/saved_data_for_visual.csv\").iloc[:,1:]\n",
    "plt.plot(temp[\"area\"],temp.cost,\"o\")"
   ]
  },
  {
   "cell_type": "code",
   "execution_count": 51,
   "id": "d2db2c07",
   "metadata": {},
   "outputs": [],
   "source": [
    "    ## it's seems there isn't alot of information coming from the \"area\"\n",
    "    ## feature, and it could bias the model to overfitting\n",
    "    ## since there is alot of overlapping prices bellow 200,000 shekel.\n",
    "    ## so in this notebook we'll keep creating df without the columns: \"jerusalem\",\"north\" and \"south\",\n",
    "    ## and without the \"area\" feature."
   ]
  },
  {
   "cell_type": "markdown",
   "id": "4438f2d8",
   "metadata": {},
   "source": [
    "# finding the best model:"
   ]
  },
  {
   "cell_type": "code",
   "execution_count": 58,
   "id": "bdb08c61",
   "metadata": {},
   "outputs": [],
   "source": [
    "    ## importing sklearn for model trainig:\n",
    "from sklearn.linear_model import LinearRegression\n",
    "from sklearn.model_selection import train_test_split\n",
    "from sklearn.preprocessing import PolynomialFeatures\n",
    "from sklearn.metrics import mean_squared_error\n",
    "from sklearn.model_selection import cross_val_score"
   ]
  },
  {
   "cell_type": "code",
   "execution_count": 53,
   "id": "14863325",
   "metadata": {},
   "outputs": [],
   "source": [
    "    ## spliting to test and train:\n",
    "X = df.iloc[:,1:len(df.columns)]\n",
    "y = df.iloc[:,0]"
   ]
  },
  {
   "cell_type": "code",
   "execution_count": 54,
   "id": "432f5950",
   "metadata": {},
   "outputs": [
    {
     "name": "stdout",
     "output_type": "stream",
     "text": [
      "Root Mean squared error (test): 35517.12030147108\n",
      "Mean absolute error (test): 26797.50524292276\n",
      "R2: 0.3901972508936504\n"
     ]
    }
   ],
   "source": [
    "    ## training linear reggretion\n",
    "X_train, X_test, y_train, y_test = train_test_split(X,y,random_state=1)\n",
    "linreg = LinearRegression().fit(X_train,y_train)\n",
    "y_pred = linreg.predict(X_test)\n",
    "show_regresion_error(y_test,y_pred)\n",
    "\n",
    "normal_linreg_r2 = r2_score(y_test,y_pred)"
   ]
  },
  {
   "cell_type": "code",
   "execution_count": 56,
   "id": "71afe51b",
   "metadata": {},
   "outputs": [
    {
     "name": "stdout",
     "output_type": "stream",
     "text": [
      "[0.4035030025732083, 3, True, False, True]\n"
     ]
    }
   ],
   "source": [
    "                 ## finding the best polynomial regression:\n",
    "                 ## takes up to 20 seconds\n",
    "b_grade = poly_gridsearch_r2(X,y)\n",
    "print(b_grade)\n",
    "normal_poly_r2_ave = b_grade[0]"
   ]
  },
  {
   "cell_type": "code",
   "execution_count": 60,
   "id": "38a033f3",
   "metadata": {},
   "outputs": [
    {
     "name": "stdout",
     "output_type": "stream",
     "text": [
      "Root Mean squared error (test): 33965.06403611723\n",
      "Mean absolute error (test): 25946.475877300203\n",
      "R2: 0.44232810131205635\n"
     ]
    }
   ],
   "source": [
    "        ## implementing the best polynomial regretion.\n",
    "pre_process = PolynomialFeatures(degree=b_grade[1],include_bias=b_grade[2],interaction_only=b_grade[3])\n",
    "X_poly = pre_process.fit_transform(X)\n",
    "X_train, X_test, y_train, y_test = train_test_split(X_poly,y,random_state=1)\n",
    "\n",
    "linreg = LinearRegression(fit_intercept=b_grade[4])\n",
    "linreg.fit(X_train,y_train)\n",
    "y_pred = linreg.predict(X_test)\n",
    "show_regresion_error(y_test,y_pred)\n",
    "\n",
    "normal_poly_r2 = r2_score(y_test,y_pred)"
   ]
  },
  {
   "cell_type": "markdown",
   "id": "768c9064",
   "metadata": {},
   "source": [
    "## the model choosen is a polinomial regretion with 3 power, which have a r2 score of 0.44.\n",
    "## let's see how good our model can do against the zero model"
   ]
  },
  {
   "cell_type": "code",
   "execution_count": 61,
   "id": "a6d1a120",
   "metadata": {},
   "outputs": [
    {
     "name": "stdout",
     "output_type": "stream",
     "text": [
      "*zero model* rmse:  47996.98271782729\n",
      "*zero model* mae: 39477.90300120048\n",
      "\n",
      "*zero model* rmse:  48602.6409010661\n",
      "*zero model* mae: 38821.83529411765\n",
      "\n",
      "Root Mean squared error (test): 33965.06403611723\n",
      "Mean absolute error (test): 25946.475877300203\n",
      "R2: 0.44232810131205635\n"
     ]
    }
   ],
   "source": [
    "    ## now let's compere our model with the zero model, which for a regretion could be seen as a model\n",
    "    ## that allways says that the price of the car is the mean/median\n",
    "zero_model(df.cost.mean(),y)\n",
    "print()\n",
    "zero_model(df.cost.median(),y)\n",
    "print()\n",
    "show_regresion_error(y_test,y_pred)"
   ]
  },
  {
   "cell_type": "markdown",
   "id": "c6996d74",
   "metadata": {},
   "source": [
    "## let's see how good our model predicted against some veriants of the model that we hypothesized would have worse preformence then ours"
   ]
  },
  {
   "cell_type": "code",
   "execution_count": 62,
   "id": "b6d472ee",
   "metadata": {},
   "outputs": [],
   "source": [
    "## now after we made the wanted model we can see if our predictions about the \"area\" feature and the deletion of\n",
    "## the outliers made the model better"
   ]
  },
  {
   "cell_type": "code",
   "execution_count": 66,
   "id": "1cb08ccb",
   "metadata": {},
   "outputs": [
    {
     "name": "stdout",
     "output_type": "stream",
     "text": [
      "model with area feature average r2: 0.3118854141103536\n"
     ]
    }
   ],
   "source": [
    "        ## importing the saved_data_with_area dataframe\n",
    "        ## this df have dummiy variables that represent the\n",
    "        ## location of the sale with 4 options: \"north\",\"south\",\n",
    "        ## \"center\",\"jerusalem\".\n",
    "df_area = pd.read_csv(\"data/saved_data_with_area.csv\").iloc[:,1:]\n",
    "        ## spliting to test and train:\n",
    "X1 = df_area.iloc[:,1:len(df_area.columns)]\n",
    "y1 = df_area.iloc[:,0]\n",
    "\n",
    "area_poly_r2_ave = poly_gridsearch_r2(X1,y1)[0]\n",
    "print(\"model with area feature average r2:\",area_poly_r2_ave)"
   ]
  },
  {
   "cell_type": "code",
   "execution_count": 68,
   "id": "602ef070",
   "metadata": {},
   "outputs": [
    {
     "name": "stdout",
     "output_type": "stream",
     "text": [
      "model with outliers average r2: 0.2624175585767106\n"
     ]
    }
   ],
   "source": [
    "    ## importing the saved_data_with_outlierr dataframe\n",
    "    ## this df have the outliers that we droped erlier\n",
    "    ## the outlier where few sampels (aroud 40) that had\n",
    "    ## a \"km\" and \"cost\" value wayy higher then the rest\n",
    "    ## of the data.\n",
    "df_outlier = pd.read_csv(\"data/saved_data_with_outliers.csv\").iloc[:,1:]\n",
    "\n",
    "X1 = df_outlier.iloc[:,1:len(df_outlier.columns)]\n",
    "y1 = df_outlier.iloc[:,0]\n",
    "\n",
    "outlier_poly_r2_ave = poly_gridsearch_r2(X1,y1)[0]\n",
    "print(\"model with outliers average r2:\",outlier_poly_r2_ave)"
   ]
  },
  {
   "cell_type": "markdown",
   "id": "46b62f8b",
   "metadata": {},
   "source": [
    "## and indeed we can see that the mean score of our original model was better then the model with the outliers (by far better) and better then the model with the \"area\" feature."
   ]
  },
  {
   "cell_type": "code",
   "execution_count": 69,
   "id": "5569484a",
   "metadata": {},
   "outputs": [
    {
     "name": "stdout",
     "output_type": "stream",
     "text": [
      "*our* model average r2: 0.4035030025732083\n",
      "*outlier* model average r2: 0.2624175585767106\n",
      "*area* model average r2: 0.3118854141103536\n"
     ]
    }
   ],
   "source": [
    "print(\"*our* model average r2:\",normal_poly_r2_ave)\n",
    "print(\"*outlier* model average r2:\",outlier_poly_r2_ave)\n",
    "print(\"*area* model average r2:\",area_poly_r2_ave)"
   ]
  },
  {
   "cell_type": "markdown",
   "id": "154877ee",
   "metadata": {},
   "source": [
    "### to sum up we made a model that uses very little information about vehicles (\"km\",\"year of prudaction\") and made much more accurate by specifying the model for cars that cost below 200,000 shekels and drove less then 600,000 km. we managed to evoid feature overfiting and made better model than regular linear reggresion\n",
    "# all the scores:"
   ]
  },
  {
   "cell_type": "code",
   "execution_count": 73,
   "id": "8a060ced",
   "metadata": {},
   "outputs": [
    {
     "name": "stdout",
     "output_type": "stream",
     "text": [
      "*our* model average r2: 0.4035030025732083\n",
      "\n",
      "*outlier* model average r2: 0.2624175585767106\n",
      "*area* model average r2: 0.3118854141103536\n",
      "\n",
      "*zero model* rmse:  47996.98271782729\n",
      "*zero model* mae: 39477.90300120048\n"
     ]
    }
   ],
   "source": [
    "print(\"*our* model average r2:\",normal_poly_r2_ave)\n",
    "print()\n",
    "print(\"*outlier* model average r2:\",outlier_poly_r2_ave)\n",
    "print(\"*area* model average r2:\",area_poly_r2_ave)\n",
    "print()\n",
    "zero_model(df.cost.mean(),y)"
   ]
  },
  {
   "cell_type": "markdown",
   "id": "6423ffeb",
   "metadata": {},
   "source": [
    "### i think i could next time use some scaling method, and would love to fighre out how to engage in this model building without getting overwhelmed, especially when i try to show multiple dataframes in the same notebook. i think i would want to make more sense out of the result of the model- for example to learn how to tell the standard devietion of the error of the model."
   ]
  },
  {
   "cell_type": "code",
   "execution_count": null,
   "id": "d4e759ca",
   "metadata": {},
   "outputs": [],
   "source": []
  }
 ],
 "metadata": {
  "celltoolbar": "Edit Metadata",
  "kernelspec": {
   "display_name": "Python 3 (ipykernel)",
   "language": "python",
   "name": "python3"
  },
  "language_info": {
   "codemirror_mode": {
    "name": "ipython",
    "version": 3
   },
   "file_extension": ".py",
   "mimetype": "text/x-python",
   "name": "python",
   "nbconvert_exporter": "python",
   "pygments_lexer": "ipython3",
   "version": "3.9.7"
  }
 },
 "nbformat": 4,
 "nbformat_minor": 5
}
