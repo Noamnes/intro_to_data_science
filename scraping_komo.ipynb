{
 "cells": [
  {
   "cell_type": "code",
   "execution_count": 82,
   "id": "6141c317",
   "metadata": {},
   "outputs": [],
   "source": [
    "import numpy as np\n",
    "import pandas as pd\n",
    "import requests\n",
    "from bs4 import BeautifulSoup\n",
    "from tkinter import *\n",
    "import os"
   ]
  },
  {
   "cell_type": "code",
   "execution_count": 17,
   "id": "342166e1",
   "metadata": {},
   "outputs": [],
   "source": [
    "url = 'https://en.wikipedia.org/wiki/History_of_Python'\n",
    "dfs = pd.read_html(url)"
   ]
  },
  {
   "cell_type": "code",
   "execution_count": 18,
   "id": "e883bb53",
   "metadata": {},
   "outputs": [
    {
     "name": "stdout",
     "output_type": "stream",
     "text": [
      "1\n"
     ]
    }
   ],
   "source": [
    "print(len(dfs))"
   ]
  },
  {
   "cell_type": "code",
   "execution_count": 19,
   "id": "948beec4",
   "metadata": {},
   "outputs": [
    {
     "data": {
      "text/html": [
       "<div>\n",
       "<style scoped>\n",
       "    .dataframe tbody tr th:only-of-type {\n",
       "        vertical-align: middle;\n",
       "    }\n",
       "\n",
       "    .dataframe tbody tr th {\n",
       "        vertical-align: top;\n",
       "    }\n",
       "\n",
       "    .dataframe thead th {\n",
       "        text-align: right;\n",
       "    }\n",
       "</style>\n",
       "<table border=\"1\" class=\"dataframe\">\n",
       "  <thead>\n",
       "    <tr style=\"text-align: right;\">\n",
       "      <th></th>\n",
       "      <th>Version</th>\n",
       "      <th>Latest micro version</th>\n",
       "      <th>Release date</th>\n",
       "      <th>End of full support</th>\n",
       "      <th>End of security fixes</th>\n",
       "    </tr>\n",
       "  </thead>\n",
       "  <tbody>\n",
       "    <tr>\n",
       "      <th>0</th>\n",
       "      <td>NaN</td>\n",
       "      <td>0.9.9[2]</td>\n",
       "      <td>1991-02-20[2]</td>\n",
       "      <td>1993-07-29[a][2]</td>\n",
       "      <td>1993-07-29[a][2]</td>\n",
       "    </tr>\n",
       "    <tr>\n",
       "      <th>1</th>\n",
       "      <td>NaN</td>\n",
       "      <td>1.0.4[2]</td>\n",
       "      <td>1994-01-26[2]</td>\n",
       "      <td>1994-02-15[a][2]</td>\n",
       "      <td>1994-02-15[a][2]</td>\n",
       "    </tr>\n",
       "    <tr>\n",
       "      <th>2</th>\n",
       "      <td>NaN</td>\n",
       "      <td>1.1.1[2]</td>\n",
       "      <td>1994-10-11[2]</td>\n",
       "      <td>1994-11-10[a][2]</td>\n",
       "      <td>1994-11-10[a][2]</td>\n",
       "    </tr>\n",
       "    <tr>\n",
       "      <th>3</th>\n",
       "      <td>NaN</td>\n",
       "      <td>NaN</td>\n",
       "      <td>1995-04-13[2]</td>\n",
       "      <td>Unsupported</td>\n",
       "      <td>Unsupported</td>\n",
       "    </tr>\n",
       "    <tr>\n",
       "      <th>4</th>\n",
       "      <td>NaN</td>\n",
       "      <td>NaN</td>\n",
       "      <td>1995-10-13[2]</td>\n",
       "      <td>Unsupported</td>\n",
       "      <td>Unsupported</td>\n",
       "    </tr>\n",
       "  </tbody>\n",
       "</table>\n",
       "</div>"
      ],
      "text/plain": [
       "  Version Latest micro version   Release date End of full support  \\\n",
       "0     NaN             0.9.9[2]  1991-02-20[2]    1993-07-29[a][2]   \n",
       "1     NaN             1.0.4[2]  1994-01-26[2]    1994-02-15[a][2]   \n",
       "2     NaN             1.1.1[2]  1994-10-11[2]    1994-11-10[a][2]   \n",
       "3     NaN                  NaN  1995-04-13[2]         Unsupported   \n",
       "4     NaN                  NaN  1995-10-13[2]         Unsupported   \n",
       "\n",
       "  End of security fixes  \n",
       "0      1993-07-29[a][2]  \n",
       "1      1994-02-15[a][2]  \n",
       "2      1994-11-10[a][2]  \n",
       "3           Unsupported  \n",
       "4           Unsupported  "
      ]
     },
     "execution_count": 19,
     "metadata": {},
     "output_type": "execute_result"
    }
   ],
   "source": [
    "dfs[0].head()"
   ]
  },
  {
   "cell_type": "code",
   "execution_count": 21,
   "id": "d59cd927",
   "metadata": {},
   "outputs": [],
   "source": [
    "url = 'https://en.wikipedia.org/wiki/History_of_Python'\n",
    "page = requests.get(url)\n",
    "soup = BeautifulSoup(page.text, 'html.parser')"
   ]
  },
  {
   "cell_type": "code",
   "execution_count": 54,
   "id": "726e6ee9",
   "metadata": {},
   "outputs": [],
   "source": [
    "url = \"https://www.komo.co.il/code/cars/\"\n",
    "page = requests.get(url)\n",
    "soup = BeautifulSoup(page.text, 'html.parser')"
   ]
  },
  {
   "cell_type": "code",
   "execution_count": 84,
   "id": "23141812",
   "metadata": {},
   "outputs": [],
   "source": [
    "cardStyle = soup.find(class_=\"CardStyle\")\n",
    "# print(cardStyle.prettify())"
   ]
  },
  {
   "cell_type": "code",
   "execution_count": 85,
   "id": "5f701173",
   "metadata": {},
   "outputs": [],
   "source": [
    "        ## a \"list\" with all the \"car styles\"\n",
    "cardStyle.findAll(\"div\")\n",
    "        ## taking only the types that intrests us\n",
    "ourcarstyles = cardStyle.findAll(\"div\")[0:4]\n",
    "# ourcarstyles"
   ]
  },
  {
   "cell_type": "code",
   "execution_count": 86,
   "id": "0ffe0f0f",
   "metadata": {},
   "outputs": [],
   "source": [
    "# ourcarstyles[0]"
   ]
  },
  {
   "cell_type": "code",
   "execution_count": 108,
   "id": "01a680ee",
   "metadata": {},
   "outputs": [],
   "source": [
    "url = \"https://www.komo.co.il/code/cars/private.asp?currPage=2&subLuachNum=1&collapsed=1\"\n",
    "page = requests.get(url)\n",
    "soup = BeautifulSoup(page.text, 'html.parser')"
   ]
  },
  {
   "cell_type": "code",
   "execution_count": 110,
   "id": "6a7fa9ba",
   "metadata": {},
   "outputs": [],
   "source": [
    "# print(soup.prettify())"
   ]
  },
  {
   "cell_type": "code",
   "execution_count": 111,
   "id": "d184da4d",
   "metadata": {},
   "outputs": [
    {
     "data": {
      "text/plain": [
       "20"
      ]
     },
     "execution_count": 111,
     "metadata": {},
     "output_type": "execute_result"
    }
   ],
   "source": [
    "        ## the code below can take the information in the link:\n",
    "        ## https://www.komo.co.il/code/cars/private.asp?currPage=2&subLuachNum=1&collapsed=1\n",
    "        ## and turn it to an orgenized list!!!\n",
    "lis = []\n",
    "for tr in soup.findAll(\"tr\" ,bgcolor=\"#FFFFFF\"):\n",
    "    values = [td.text for td in tr.findAll(\"td\")]\n",
    "    lis.append(values)\n",
    "\n",
    "len(lis)"
   ]
  },
  {
   "cell_type": "code",
   "execution_count": 112,
   "id": "f0dbd3c4",
   "metadata": {},
   "outputs": [
    {
     "data": {
      "text/plain": [
       "[['רכב פרטי',\n",
       "  'פורד - פיאסטה',\n",
       "  'אשדוד - אשקלון',\n",
       "  '159000',\n",
       "  '27,000\\xa0₪',\n",
       "  '2014',\n",
       "  '8 שעות '],\n",
       " ['רכב פרטי',\n",
       "  'יונדאי - איוניק',\n",
       "  'ראשל\"צ והסביבה',\n",
       "  '14500',\n",
       "  '126,500\\xa0₪',\n",
       "  '2021',\n",
       "  '6 שעות '],\n",
       " ['רכב פרטי',\n",
       "  'פיג’ו - 2008',\n",
       "  'תל אביב',\n",
       "  '79000',\n",
       "  '63,500\\xa0₪',\n",
       "  '2017',\n",
       "  '7 שעות '],\n",
       " ['רכב פרטי',\n",
       "  'סקודה - ראפיד',\n",
       "  'באר שבע והסביבה',\n",
       "  '163000',\n",
       "  '48,000\\xa0₪',\n",
       "  '2016',\n",
       "  '1 ימים '],\n",
       " ['רכב פרטי',\n",
       "  'טויוטה - יאריס',\n",
       "  'חיפה וחוף הכרמל',\n",
       "  '152000',\n",
       "  '46,000\\xa0₪',\n",
       "  '2014',\n",
       "  '1 ימים '],\n",
       " ['רכב פרטי',\n",
       "  'מאזדה - 3',\n",
       "  'חיפה וחוף הכרמל',\n",
       "  '100000',\n",
       "  '36,000\\xa0₪',\n",
       "  '2010',\n",
       "  '7 שעות '],\n",
       " ['רכב פרטי',\n",
       "  'מאזדה - 3',\n",
       "  'נס ציונה - רחובות',\n",
       "  '170000',\n",
       "  '47,000\\xa0₪',\n",
       "  '2014',\n",
       "  '1 ימים '],\n",
       " ['רכב פרטי',\n",
       "  'סוזוקי - סוויפט',\n",
       "  'רמת גן - גבעתיים',\n",
       "  '46000',\n",
       "  '6,500\\xa0₪',\n",
       "  '2001',\n",
       "  '15 שעות '],\n",
       " ['רכב פרטי',\n",
       "  'שברולט - ספארק',\n",
       "  'קריות',\n",
       "  '109500',\n",
       "  '22,500\\xa0₪',\n",
       "  '2016',\n",
       "  '7 שעות '],\n",
       " ['רכב פרטי',\n",
       "  'הונדה - ג’אז',\n",
       "  'ירושלים והסביבה',\n",
       "  '252214',\n",
       "  '7,990\\xa0₪',\n",
       "  '2005',\n",
       "  '6 שעות '],\n",
       " ['רכב פרטי',\n",
       "  'יונדאי - i10',\n",
       "  'חיפה וחוף הכרמל',\n",
       "  '9012',\n",
       "  '72,000\\xa0₪',\n",
       "  '2020',\n",
       "  '1 ימים '],\n",
       " ['רכב פרטי',\n",
       "  'קיה - פיקנטו',\n",
       "  'חולון - בת ים',\n",
       "  '83000',\n",
       "  '65,900\\xa0₪',\n",
       "  '2018',\n",
       "  '6 שעות '],\n",
       " ['רכב פרטי',\n",
       "  'טויוטה - קורולה',\n",
       "  'חיפה וחוף הכרמל',\n",
       "  '140000',\n",
       "  '73,000\\xa0₪',\n",
       "  '2016',\n",
       "  '1 ימים '],\n",
       " ['רכב פרטי',\n",
       "  'מאזדה - 3',\n",
       "  'נס ציונה - רחובות',\n",
       "  '210000',\n",
       "  '14,500\\xa0₪',\n",
       "  '2009',\n",
       "  '1 ימים '],\n",
       " ['רכב פרטי',\n",
       "  'פולקסווגן - פולו',\n",
       "  'קריות',\n",
       "  '83000',\n",
       "  '88,000\\xa0₪',\n",
       "  '2015',\n",
       "  '6 שעות '],\n",
       " ['רכב פרטי',\n",
       "  'טויוטה - אוריס',\n",
       "  'נתניה והסביבה',\n",
       "  '41000',\n",
       "  '85,000\\xa0₪',\n",
       "  '2018',\n",
       "  '1 ימים '],\n",
       " ['רכב פרטי',\n",
       "  'סובארו - XV',\n",
       "  'מושבים בשפלה',\n",
       "  '13000',\n",
       "  '148,000\\xa0₪',\n",
       "  '2021',\n",
       "  '8 שעות '],\n",
       " ['רכב פרטי',\n",
       "  'מרצדס - E-CLASS',\n",
       "  'חיפה וחוף הכרמל',\n",
       "  '129000',\n",
       "  '70,000\\xa0₪',\n",
       "  '2009',\n",
       "  '7 שעות '],\n",
       " ['רכב פרטי',\n",
       "  'מאזדה - 3',\n",
       "  'חיפה וחוף הכרמל',\n",
       "  '145000',\n",
       "  '56,000\\xa0₪',\n",
       "  '2016',\n",
       "  '1 ימים '],\n",
       " ['רכב פרטי',\n",
       "  'טויוטה - פריוס',\n",
       "  'נתניה והסביבה',\n",
       "  '47000',\n",
       "  '118,000\\xa0₪',\n",
       "  '2018',\n",
       "  '1 ימים ']]"
      ]
     },
     "execution_count": 112,
     "metadata": {},
     "output_type": "execute_result"
    }
   ],
   "source": [
    "lis"
   ]
  },
  {
   "cell_type": "code",
   "execution_count": 125,
   "id": "2d833eb2",
   "metadata": {},
   "outputs": [
    {
     "data": {
      "text/plain": [
       "['https://www.komo.co.il/code/cars/private.asp?currPage=1&subLuachNum=1&collapsed=1',\n",
       " 'https://www.komo.co.il/code/cars/private.asp?currPage=2&subLuachNum=1&collapsed=1',\n",
       " 'https://www.komo.co.il/code/cars/private.asp?currPage=3&subLuachNum=1&collapsed=1',\n",
       " 'https://www.komo.co.il/code/cars/private.asp?currPage=4&subLuachNum=1&collapsed=1',\n",
       " 'https://www.komo.co.il/code/cars/private.asp?currPage=5&subLuachNum=1&collapsed=1',\n",
       " 'https://www.komo.co.il/code/cars/private.asp?currPage=6&subLuachNum=1&collapsed=1',\n",
       " 'https://www.komo.co.il/code/cars/private.asp?currPage=7&subLuachNum=1&collapsed=1',\n",
       " 'https://www.komo.co.il/code/cars/private.asp?currPage=8&subLuachNum=1&collapsed=1',\n",
       " 'https://www.komo.co.il/code/cars/private.asp?currPage=9&subLuachNum=1&collapsed=1',\n",
       " 'https://www.komo.co.il/code/cars/private.asp?currPage=10&subLuachNum=1&collapsed=1']"
      ]
     },
     "execution_count": 125,
     "metadata": {},
     "output_type": "execute_result"
    }
   ],
   "source": [
    "lis = []\n",
    "for x in [(\"https://www.komo.co.il/code/cars/private.asp?currPage=\"+y+\"&subLuachNum=1&collapsed=1\") for y in [\"1\",\"2\",\"3\",\"4\",\"5\",\"6\",\"7\",\"8\",\"9\",\"10\"]]:\n",
    "    lis.append(x)\n",
    "lis"
   ]
  },
  {
   "cell_type": "code",
   "execution_count": 131,
   "id": "e1c58a19",
   "metadata": {},
   "outputs": [
    {
     "data": {
      "text/plain": [
       "4"
      ]
     },
     "execution_count": 131,
     "metadata": {},
     "output_type": "execute_result"
    }
   ],
   "source": [
    "            #### חשבתי לעשות את הרשימה בצורה של מערך דו ממדי אבל זה לא הכרחי וסתם מסבך\n",
    "lis = []\n",
    "for style in [\"private\",\"commercial\",\"jeeps\",\"trucks\"]:\n",
    "    temp = []\n",
    "    for x in [(\"https://www.komo.co.il/code/cars/\"+style+\".asp?currPage=\"+y+\"&subLuachNum=1&collapsed=1\") for y in [\"1\",\"2\",\"3\",\"4\",\"5\",\"6\",\"7\",\"8\",\"9\",\"10\"]]:\n",
    "        temp.append(x)\n",
    "    lis.append(temp)\n",
    "            \n",
    "            \n",
    "            ## now we have a list of links to *all* the wright\n",
    "            ## pages!!!"
   ]
  },
  {
   "cell_type": "code",
   "execution_count": 137,
   "id": "12ce1b88",
   "metadata": {},
   "outputs": [
    {
     "ename": "IndentationError",
     "evalue": "expected an indented block (Temp/ipykernel_22752/2498197575.py, line 3)",
     "output_type": "error",
     "traceback": [
      "\u001b[1;36m  File \u001b[1;32m\"C:\\Users\\noams\\AppData\\Local\\Temp/ipykernel_22752/2498197575.py\"\u001b[1;36m, line \u001b[1;32m3\u001b[0m\n\u001b[1;33m    #         print(y)\u001b[0m\n\u001b[1;37m                      ^\u001b[0m\n\u001b[1;31mIndentationError\u001b[0m\u001b[1;31m:\u001b[0m expected an indented block\n"
     ]
    }
   ],
   "source": [
    "# for x in lis:\n",
    "#     for y in x:\n",
    "#         print(y)"
   ]
  },
  {
   "cell_type": "code",
   "execution_count": 148,
   "id": "de305820",
   "metadata": {},
   "outputs": [],
   "source": [
    "links = []\n",
    "for style in [\"private\",\"commercial\",\"jeeps\",\"trucks\"]:\n",
    "    for x in [(\"https://www.komo.co.il/code/cars/\"+style+\".asp?currPage=\"+y+\"&subLuachNum=1&collapsed=1\") for y in [\"1\",\"2\",\"3\",\"4\",\"5\",\"6\",\"7\",\"8\",\"9\",\"10\"]]:\n",
    "        links.append(x)\n"
   ]
  },
  {
   "cell_type": "code",
   "execution_count": 149,
   "id": "ee7347e6",
   "metadata": {},
   "outputs": [
    {
     "data": {
      "text/plain": [
       "40"
      ]
     },
     "execution_count": 149,
     "metadata": {},
     "output_type": "execute_result"
    }
   ],
   "source": [
    " ## this aprove that we have all the links we need\n",
    "len(links)"
   ]
  },
  {
   "cell_type": "code",
   "execution_count": 154,
   "id": "910037a3",
   "metadata": {},
   "outputs": [],
   "source": [
    "soups = []\n",
    "for x in links:\n",
    "    page = requests.get(x)\n",
    "    soup = BeautifulSoup(page.text,\"html.parser\")\n",
    "    soups.append(soup)\n",
    "    "
   ]
  },
  {
   "cell_type": "code",
   "execution_count": 156,
   "id": "e8781876",
   "metadata": {},
   "outputs": [],
   "source": [
    "data = []\n",
    "for x in soups:\n",
    "    for tr in soup.findAll(\"tr\" ,bgcolor=\"#FFFFFF\"):\n",
    "        values = [td.text for td in tr.findAll(\"td\")]\n",
    "        data.append(values)\n"
   ]
  },
  {
   "cell_type": "code",
   "execution_count": 163,
   "id": "877f3597",
   "metadata": {},
   "outputs": [
    {
     "name": "stdout",
     "output_type": "stream",
     "text": [
      "<class 'str'>\n",
      "<class 'str'>\n",
      "<class 'str'>\n",
      "<class 'str'>\n",
      "<class 'str'>\n",
      "<class 'str'>\n"
     ]
    }
   ],
   "source": [
    "print(type(data[0][0]))\n",
    "print(type(data[10][1]))\n",
    "print(type(data[80][2]))\n",
    "print(type(data[120][3]))\n",
    "print(type(data[500][4]))\n",
    "print(type(data[600][5]))\n"
   ]
  },
  {
   "cell_type": "code",
   "execution_count": 164,
   "id": "b31bad26",
   "metadata": {},
   "outputs": [
    {
     "name": "stdout",
     "output_type": "stream",
     "text": [
      "<class 'str'>\n",
      "<class 'str'>\n",
      "<class 'str'>\n",
      "<class 'str'>\n",
      "<class 'str'>\n",
      "<class 'str'>\n"
     ]
    }
   ],
   "source": [
    "print(type(data[0][0]))\n",
    "print(type(data[0][1]))\n",
    "print(type(data[0][2]))\n",
    "print(type(data[0][3]))\n",
    "print(type(data[0][4]))\n",
    "print(type(data[0][5]))"
   ]
  },
  {
   "cell_type": "code",
   "execution_count": 165,
   "id": "89f3f169",
   "metadata": {},
   "outputs": [
    {
     "data": {
      "text/plain": [
       "['משאיות',\n",
       " 'ניסאן - SFTF24',\n",
       " 'פתח תקוה והסביבה',\n",
       " '255000',\n",
       " '30,000\\xa0₪',\n",
       " '2008',\n",
       " '6 ימים ']"
      ]
     },
     "execution_count": 165,
     "metadata": {},
     "output_type": "execute_result"
    }
   ],
   "source": [
    "data[0]"
   ]
  },
  {
   "cell_type": "code",
   "execution_count": null,
   "id": "a0ec2266",
   "metadata": {},
   "outputs": [],
   "source": []
  }
 ],
 "metadata": {
  "kernelspec": {
   "display_name": "Python 3 (ipykernel)",
   "language": "python",
   "name": "python3"
  },
  "language_info": {
   "codemirror_mode": {
    "name": "ipython",
    "version": 3
   },
   "file_extension": ".py",
   "mimetype": "text/x-python",
   "name": "python",
   "nbconvert_exporter": "python",
   "pygments_lexer": "ipython3",
   "version": "3.9.7"
  }
 },
 "nbformat": 4,
 "nbformat_minor": 5
}
